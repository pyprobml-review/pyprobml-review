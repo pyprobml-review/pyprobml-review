{
  "nbformat": 4,
  "nbformat_minor": 0,
  "metadata": {
    "colab": {
      "name": "gamma_dist_plot.ipynb",
      "provenance": [],
      "collapsed_sections": []
    },
    "kernelspec": {
      "name": "python3",
      "display_name": "Python 3"
    },
    "language_info": {
      "name": "python"
    }
  },
  "cells": [
    {
      "cell_type": "markdown",
      "source": [
        "# Gamma Distributions"
      ],
      "metadata": {
        "id": "7OGyhw9v31o1"
      }
    },
    {
      "cell_type": "code",
      "execution_count": null,
      "metadata": {
        "id": "iPOUzf2j0lNB"
      },
      "outputs": [],
      "source": [
        "import jax\n",
        "import jax.numpy as jnp\n",
        "from jax.scipy.stats import gamma\n",
        "import matplotlib.pyplot as plt\n",
        "import seaborn as sns\n",
        "from probml_utils import savefig, latexify"
      ]
    },
    {
      "cell_type": "code",
      "source": [
        "latexify(width_scale_factor=2, fig_height=2)"
      ],
      "metadata": {
        "id": "58mmIS_10m1K"
      },
      "execution_count": null,
      "outputs": []
    },
    {
      "cell_type": "code",
      "source": [
        "def make_graph(data):\n",
        "    x = data[\"x\"]\n",
        "    a_list = data[\"a_list\"]\n",
        "    b_list = data[\"b_list\"]\n",
        "    props = data[\"props\"]\n",
        "    fig_name = data[\"fig_name\"]\n",
        "\n",
        "    for a, b, prop in zip(a_list, b_list, props):\n",
        "        y = gamma.pdf(x, a, scale=1 / b, loc=0)\n",
        "        plt.plot(x, y, prop, label=\"a=%.1f,  b=%.1f\" % (a, b))\n",
        "\n",
        "        plt.xlabel(\"$x$\")\n",
        "        plt.ylabel(\"$p(x)$\")\n",
        "        plt.legend(loc=\"upper right\")\n",
        "        plt.title(fig_name)\n",
        "        sns.despine()"
      ],
      "metadata": {
        "id": "iH5XbYaWeW-7"
      },
      "execution_count": null,
      "outputs": []
    },
    {
      "cell_type": "code",
      "source": [
        "x = jnp.linspace(0, 7, 100)\n",
        "a_list = [1.0, 1.5, 2.0, 1.0, 1.5, 2.0]\n",
        "b_list = [1.0, 1.0, 1.0, 2.0, 2.0, 2.0]\n",
        "props = [\"b-\", \"r-\", \"k-\", \"b:\", \"r:\", \"k:\"]\n",
        "data = {\"x\": x, \"a_list\": a_list, \"b_list\": b_list, \"props\": props, \"fig_name\": \"Gamma distributions\"}\n",
        "make_graph(data)\n",
        "savefig(\"gammadist_latexified\")"
      ],
      "metadata": {
        "id": "kk0h8yftdDcp"
      },
      "execution_count": null,
      "outputs": []
    },
    {
      "cell_type": "code",
      "source": [
        "x = jnp.linspace(0, 7, 100)\n",
        "a_list = [1, 1.5, 2]\n",
        "b_list = [1, 1, 1]\n",
        "props = [\"b-\", \"r-\", \"g-\"]\n",
        "data = {\"x\": x, \"a_list\": a_list, \"b_list\": b_list, \"props\": props, \"fig_name\": \"Gamma(a,b) distributions\"}\n",
        "make_graph(data)"
      ],
      "metadata": {
        "id": "3d6PKkO8g9Fj"
      },
      "execution_count": null,
      "outputs": []
    },
    {
      "cell_type": "code",
      "source": [
        "x = jnp.linspace(0, 7, 100)\n",
        "a_list = [1]\n",
        "b_list = [1]\n",
        "props = [\"b-\"]\n",
        "data = {\"x\": x, \"a_list\": a_list, \"b_list\": b_list, \"props\": props, \"fig_name\": \"Gamma(1,1) distribution\"}\n",
        "make_graph(data)\n",
        "plt.axvline(1, color=\"r\")\n",
        "plt.show()"
      ],
      "metadata": {
        "id": "PG7W-4PAhPae"
      },
      "execution_count": null,
      "outputs": []
    },
    {
      "cell_type": "code",
      "source": [
        "from ipywidgets import interact\n",
        "\n",
        "\n",
        "@interact(a=(0.1, 5), b=(0.1, 5))\n",
        "def generate_random(a, b):\n",
        "    data = {\n",
        "        \"x\": jnp.linspace(0, 7, 100),\n",
        "        \"a_list\": [a],\n",
        "        \"b_list\": [b],\n",
        "        \"props\": [\"b\"],\n",
        "        \"fig_name\": \"Gamma distributions\",\n",
        "    }\n",
        "    make_graph(data)\n",
        "    plt.yticks(jnp.arange(0, 6, step=1))"
      ],
      "metadata": {
        "id": "XUpV9fGMfU7c"
      },
      "execution_count": null,
      "outputs": []
    },
    {
      "cell_type": "code",
      "source": [
        ""
      ],
      "metadata": {
        "id": "TkppVzlWn990"
      },
      "execution_count": null,
      "outputs": []
    }
  ]
}
