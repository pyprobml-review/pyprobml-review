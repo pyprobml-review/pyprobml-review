{
  "nbformat": 4,
  "nbformat_minor": 0,
  "metadata": {
    "colab": {
      "name": "beta_dist_plot.ipynb",
      "provenance": [],
      "collapsed_sections": []
    },
    "kernelspec": {
      "name": "python3",
      "display_name": "Python 3"
    },
    "language_info": {
      "name": "python"
    }
  },
  "cells": [
    {
      "cell_type": "markdown",
      "source": [
        "# Beta Distributions"
      ],
      "metadata": {
        "id": "sS1rvUzidtpC"
      }
    },
    {
      "cell_type": "code",
      "execution_count": null,
      "metadata": {
        "id": "iPOUzf2j0lNB"
      },
      "outputs": [],
      "source": [
        "import jax\n",
        "import jax.numpy as jnp\n",
        "from jax.scipy.stats import beta\n",
        "import matplotlib.pyplot as plt\n",
        "import seaborn as sns\n",
        "from probml_utils import savefig, latexify"
      ]
    },
    {
      "cell_type": "code",
      "source": [
        "latexify(width_scale_factor=2, fig_height=2)"
      ],
      "metadata": {
        "id": "58mmIS_10m1K"
      },
      "execution_count": null,
      "outputs": []
    },
    {
      "cell_type": "code",
      "source": [
        "def make_graph(data):\n",
        "    x = data[\"x\"]\n",
        "    a_list = data[\"a_list\"]\n",
        "    b_list = data[\"b_list\"]\n",
        "    props = data[\"props\"]\n",
        "\n",
        "    for a, b, prop in zip(a_list, b_list, props):\n",
        "        y = beta.pdf(x, a, b)\n",
        "        plt.plot(x, y, prop, label=\"a=%.1f,  b=%.1f\" % (a, b))\n",
        "\n",
        "        plt.xlabel(\"$x$\")\n",
        "        plt.ylabel(\"$p(x)$\")\n",
        "        plt.legend(loc=\"best\", prop={\"size\": 8})\n",
        "        plt.title(\"Beta distributions\")\n",
        "        sns.despine()\n",
        "        savefig(\"betadist_latexified\")"
      ],
      "metadata": {
        "id": "I2NH9mTr0mvv"
      },
      "execution_count": null,
      "outputs": []
    },
    {
      "cell_type": "code",
      "source": [
        "x = jnp.linspace(0, 1, 100)\n",
        "a_list = [0.1, 0.1, 1.0, 2.0, 2.0]\n",
        "b_list = [0.1, 1.0, 1.0, 2.0, 8.0]\n",
        "props = [\"b\", \"r\", \"k\", \"g\", \"c\"]\n",
        "data = {\"x\": x, \"a_list\": a_list, \"b_list\": b_list, \"props\": props}\n",
        "make_graph(data)"
      ],
      "metadata": {
        "id": "-KxzDHI0Zpn0"
      },
      "execution_count": null,
      "outputs": []
    },
    {
      "cell_type": "code",
      "source": [
        "from ipywidgets import interact\n",
        "\n",
        "\n",
        "@interact(a=(0.1, 10), b=(0.1, 10))\n",
        "def generate_random(a, b):\n",
        "    data = {\"x\": jnp.linspace(0, 1, 100), \"a_list\": [a], \"b_list\": [b], \"props\": [\"r\"]}\n",
        "    make_graph(data)\n",
        "    plt.yticks(jnp.arange(0, 11, step=1))"
      ],
      "metadata": {
        "id": "F4abb2X50mr0"
      },
      "execution_count": null,
      "outputs": []
    },
    {
      "cell_type": "code",
      "source": [
        ""
      ],
      "metadata": {
        "id": "H1mPeuZ8xEsb"
      },
      "execution_count": null,
      "outputs": []
    }
  ]
}
