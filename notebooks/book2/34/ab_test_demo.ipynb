{
  "cells": [
    {
      "cell_type": "code",
      "source": [
        "%%capture\n",
        "# Example 5.1 from \"Test and roll: profit maximizing A/B tests\"\n",
        "# https://pubsonline.informs.org/doi/abs/10.1287/mksc.2019.1194\n",
        "\n",
        "import numpy as np\n",
        "import matplotlib.pyplot as plt\n",
        "import seaborn as sns\n",
        "\n",
        "try:\n",
        "    from probml_utils import savefig, latexify,is_latexify_enabled\n",
        "except ModuleNotFoundError:\n",
        "    %pip install -qq git+https://github.com/probml/probml-utils.git\n",
        "    from probml_utils import savefig, latexify,is_latexify_enabled"
      ],
      "metadata": {
        "id": "2LvRJQQXu441"
      },
      "id": "2LvRJQQXu441",
      "execution_count": 1,
      "outputs": []
    },
    {
      "cell_type": "code",
      "source": [
        "latexify(width_scale_factor=2, fig_height=1.5)"
      ],
      "metadata": {
        "colab": {
          "base_uri": "https://localhost:8080/"
        },
        "id": "-g9rcvYTy-NG",
        "outputId": "fea7f31b-54c6-4740-dcab-b33e8471c835"
      },
      "id": "-g9rcvYTy-NG",
      "execution_count": 2,
      "outputs": [
        {
          "output_type": "stream",
          "name": "stderr",
          "text": [
            "/usr/local/lib/python3.7/dist-packages/probml_utils/plotting.py:26: UserWarning: LATEXIFY environment variable not set, not latexifying\n",
            "  warnings.warn(\"LATEXIFY environment variable not set, not latexifying\")\n"
          ]
        }
      ]
    },
    {
      "cell_type": "code",
      "execution_count": 3,
      "id": "552c13e4",
      "metadata": {
        "id": "552c13e4"
      },
      "outputs": [],
      "source": [
        "def optimal_sample_size(N, s, sigma):\n",
        "    # eqn 10\n",
        "    t = (s / sigma) ** 2\n",
        "    n = np.sqrt(0.25 * N * t + (0.75 * t) ** 2) - 0.75 * t\n",
        "    return n\n",
        "\n",
        "def prob_error(n1, n2, s, sigma):\n",
        "    # eqn 12\n",
        "    x = np.sqrt(2) * sigma / s * np.sqrt(n1 * n2 / (n1 + n2 + 1e-10))\n",
        "    p = 0.25 - 1 / (2 * np.pi) * np.arctan(x)\n",
        "    return 2 * p  # could have m1<m2 or m1>m2\n",
        "\n",
        "def eprofit_deploy(N, n1, n2, s, mu, sigma):\n",
        "    # eqn 9\n",
        "    numer = np.sqrt(2) * sigma**2\n",
        "    tmp = 2 * sigma**2 + (n1 + n2) / (n1 * n2 + 1e-10) * (s**2)\n",
        "    denom = np.sqrt(np.pi) * np.sqrt(tmp)\n",
        "    return (N - n1 - n2) * (mu + numer / denom)\n",
        "\n",
        "def eprofit_test(N, n1, n2, s, mu, sigma):\n",
        "    # eqn 7\n",
        "    return (n1 + n2) * mu\n",
        "\n",
        "def eprofit_total(N, n1, n2, s, mu, sigma):\n",
        "    p1 = eprofit_test(N, n1, n2, s, mu, sigma)\n",
        "    p2 = eprofit_deploy(N, n1, n2, s, mu, sigma)\n",
        "    return p1 + p2"
      ]
    },
    {
      "cell_type": "code",
      "source": [
        "mu = 0.68\n",
        "sigma = 0.03\n",
        "N = 100000\n",
        "s = np.sqrt(mu * (1 - mu))\n",
        "nopt = optimal_sample_size(N, s, sigma)\n",
        "print(nopt)  # 2283.9"
      ],
      "metadata": {
        "colab": {
          "base_uri": "https://localhost:8080/"
        },
        "id": "YmIHbz9SvJ5Q",
        "outputId": "e5c3c003-4ec8-4d60-ec24-5d94ab50bf53"
      },
      "id": "YmIHbz9SvJ5Q",
      "execution_count": 4,
      "outputs": [
        {
          "output_type": "stream",
          "name": "stdout",
          "text": [
            "2283.890028194425\n"
          ]
        }
      ]
    },
    {
      "cell_type": "code",
      "source": [
        "n1 = nopt\n",
        "n2 = nopt\n",
        "p = prob_error(n1, n2, s, sigma)\n",
        "print(p)  # 0.10"
      ],
      "metadata": {
        "colab": {
          "base_uri": "https://localhost:8080/"
        },
        "id": "3kGXWBenvNnA",
        "outputId": "73024cf0-7bce-40aa-c63e-8c042df8b647"
      },
      "id": "3kGXWBenvNnA",
      "execution_count": 5,
      "outputs": [
        {
          "output_type": "stream",
          "name": "stdout",
          "text": [
            "0.10012814134508047\n"
          ]
        }
      ]
    },
    {
      "cell_type": "code",
      "source": [
        "print(eprofit_test(N, n1, n2, s, mu, sigma))  # 3106\n",
        "print(eprofit_deploy(N, n1, n2, s, mu, sigma))  # 66429.9\n",
        "eprofit_opt = eprofit_total(N, n1, n2, s, mu, sigma)\n",
        "error_rate_opt = prob_error(n1, n2, s, sigma)"
      ],
      "metadata": {
        "colab": {
          "base_uri": "https://localhost:8080/"
        },
        "id": "M3n6UjpZvQXn",
        "outputId": "1b355327-2e5b-42cc-fe35-262b293003ec"
      },
      "id": "M3n6UjpZvQXn",
      "execution_count": 6,
      "outputs": [
        {
          "output_type": "stream",
          "name": "stdout",
          "text": [
            "3106.0904383444185\n",
            "66429.90817920299\n"
          ]
        }
      ]
    },
    {
      "cell_type": "code",
      "source": [
        "ns = np.linspace(0, 50000, 1000)\n",
        "K = len(ns)\n",
        "eprofit = np.zeros(K)\n",
        "error_rate = np.zeros(K)\n",
        "for k, n in enumerate(ns):\n",
        "    n1 = n\n",
        "    n2 = n\n",
        "    eprofit[k] = eprofit_total(N, n1, n2, s, mu, sigma)\n",
        "    error_rate[k] = prob_error(n1, n2, s, sigma)"
      ],
      "metadata": {
        "id": "WRUDAbm9vSRE"
      },
      "id": "WRUDAbm9vSRE",
      "execution_count": 7,
      "outputs": []
    },
    {
      "cell_type": "code",
      "source": [
        "plt.figure()\n",
        "plt.plot(ns, eprofit,markersize=1)\n",
        "plt.xlabel(\"Test size\")\n",
        "plt.ylabel(\"Expected conversions\")\n",
        "sns.despine()\n",
        "plt.axvline(nopt)\n",
        "plt.axhline(eprofit_opt)\n",
        "plt.text(nopt, eprofit_opt, \"n*={:0.1f}\".format(nopt))\n",
        "savefig(\"ab_profit.pdf\")\n",
        "savefig(\"ab_profit.png\")\n",
        "plt.show()"
      ],
      "metadata": {
        "colab": {
          "base_uri": "https://localhost:8080/",
          "height": 316
        },
        "id": "XcBWNnQJvFCT",
        "outputId": "41d81306-6c45-4d57-f966-2c1dee423cc4"
      },
      "id": "XcBWNnQJvFCT",
      "execution_count": 8,
      "outputs": [
        {
          "output_type": "stream",
          "name": "stderr",
          "text": [
            "/usr/local/lib/python3.7/dist-packages/probml_utils/plotting.py:80: UserWarning: set FIG_DIR environment variable to save figures\n",
            "  warnings.warn(\"set FIG_DIR environment variable to save figures\")\n"
          ]
        },
        {
          "output_type": "display_data",
          "data": {
            "text/plain": [
              "<Figure size 432x288 with 1 Axes>"
            ],
            "image/png": "[encoded data removed]"
          },
          "metadata": {
            "needs_background": "light"
          }
        }
      ]
    },
    {
      "cell_type": "code",
      "source": [
        "plt.figure()\n",
        "plt.plot(ns, error_rate,markersize=1)\n",
        "plt.xlabel(\"Test size\")\n",
        "plt.ylabel(\"Expected error rate\")\n",
        "sns.despine()\n",
        "plt.axvline(nopt)\n",
        "plt.axhline(error_rate_opt)\n",
        "plt.text(nopt, error_rate_opt, \"n*={:0.1f}\".format(nopt))\n",
        "savefig(\"ab_error.pdf\")\n",
        "savefig(\"ab_error.png\")\n",
        "plt.show()"
      ],
      "metadata": {
        "colab": {
          "base_uri": "https://localhost:8080/",
          "height": 315
        },
        "id": "oRxRHLhLvVNx",
        "outputId": "700bfc72-b386-4df4-9aaf-5057afbc08bc"
      },
      "id": "oRxRHLhLvVNx",
      "execution_count": 9,
      "outputs": [
        {
          "output_type": "stream",
          "name": "stderr",
          "text": [
            "/usr/local/lib/python3.7/dist-packages/probml_utils/plotting.py:80: UserWarning: set FIG_DIR environment variable to save figures\n",
            "  warnings.warn(\"set FIG_DIR environment variable to save figures\")\n"
          ]
        },
        {
          "output_type": "display_data",
          "data": {
            "text/plain": [
              "<Figure size 432x288 with 1 Axes>"
            ],
            "image/png": "[encoded data removed]"
          },
          "metadata": {
            "needs_background": "light"
          }
        }
      ]
    }
  ],
  "metadata": {
    "colab": {
      "name": "ab_test_demo.ipynb",
      "provenance": []
    },
    "language_info": {
      "name": "python"
    },
    "kernelspec": {
      "name": "python3",
      "display_name": "Python 3"
    },
    "gpuClass": "standard"
  },
  "nbformat": 4,
  "nbformat_minor": 5
}