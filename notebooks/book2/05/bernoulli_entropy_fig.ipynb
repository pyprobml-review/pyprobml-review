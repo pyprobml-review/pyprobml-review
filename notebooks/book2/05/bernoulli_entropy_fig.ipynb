{
 "cells": [
  {
   "cell_type": "code",
   "execution_count": 1,
   "id": "Zp_AEYx6dJjj",
   "metadata": {
    "id": "Zp_AEYx6dJjj"
   },
   "outputs": [],
   "source": [
    "import numpy as np\n",
    "import matplotlib.pyplot as plt\n",
    "import matplotlib\n",
    "try:\n",
    "    import seaborn as sns\n",
    "except:\n",
    "    %pip install seaborn\n",
    "    import seaborn as sns\n",
    "%matplotlib inline\n",
    "\n",
    "try:\n",
    "    import probml_utils as pml\n",
    "    from probml_utils import savefig, latexify\n",
    "except ModuleNotFoundError:\n",
    "    %pip install -qq git+https://github.com/probml/probml-utils.git\n",
    "    import probml_utils as pml\n",
    "    from probml_utils import savefig, latexify"
   ]
  },
  {
   "cell_type": "code",
   "execution_count": 2,
   "id": "zPzJs_9Pewv1",
   "metadata": {
    "id": "zPzJs_9Pewv1"
   },
   "outputs": [],
   "source": [
    "latexify(width_scale_factor = 2, fig_height = 1.5)"
   ]
  },
  {
   "cell_type": "code",
   "execution_count": 3,
   "id": "33ce42ac",
   "metadata": {
    "colab": {
     "base_uri": "https://localhost:8080/",
     "height": 553
    },
    "id": "33ce42ac",
    "outputId": "1d605343-675e-4ba0-b33f-2ad80ad3ed05"
   },
   "outputs": [
    {
     "name": "stderr",
     "output_type": "stream",
     "text": [
      "/tmp/ipykernel_25612/1316175217.py:3: RuntimeWarning: divide by zero encountered in log2\n",
      "  H = lambda x: -(x * np.log2(x) + (1 - x) * np.log2(1 - x))\n",
      "/tmp/ipykernel_25612/1316175217.py:3: RuntimeWarning: invalid value encountered in multiply\n",
      "  H = lambda x: -(x * np.log2(x) + (1 - x) * np.log2(1 - x))\n",
      "/home/dhruvpatel/.local/lib/python3.8/site-packages/probml_utils/plotting.py:69: UserWarning: renaming fig/bernoulliEntropy.pdf to fig/bernoulliEntropy_latexified.pdf because LATEXIFY is True\n",
      "  warnings.warn(\n"
     ]
    },
    {
     "name": "stdout",
     "output_type": "stream",
     "text": [
      "saving image to fig/bernoulliEntropy_latexified.pdf\n",
      "Figure size: [6. 2.]\n"
     ]
    },
    {
     "data": {
      "image/png": "[encoded data removed]",
      "text/plain": [
       "<Figure size 432x144 with 1 Axes>"
      ]
     },
     "metadata": {
      "needs_background": "light"
     },
     "output_type": "display_data"
    }
   ],
   "source": [
    "\n",
    "x = np.linspace(0, 1, 10000)\n",
    "\n",
    "H = lambda x: -(x * np.log2(x) + (1 - x) * np.log2(1 - x))\n",
    "\n",
    "plt.plot(x, H(x), \"-b\", lw=3)\n",
    "plt.xlim((-0.01, 1.01))\n",
    "plt.ylim((0, 1.01))\n",
    "\n",
    "plt.xlabel(\"p(X = 1)\")\n",
    "plt.ylabel(\"H(X)\")\n",
    "\n",
    "ticks = [0, 0.5, 1]\n",
    "plt.xticks(ticks)\n",
    "plt.yticks(ticks)\n",
    "sns.despine()\n",
    "\n",
    "pml.savefig(\"bernoulliEntropy.pdf\")\n",
    "plt.show()"
   ]
  }
 ],
 "metadata": {
  "colab": {
   "name": "bernoulli_entropy_fig.ipynb",
   "provenance": []
  },
  "gpuClass": "standard",
  "kernelspec": {
   "display_name": "Python 3 (ipykernel)",
   "language": "python",
   "name": "python3"
  },
  "language_info": {
   "codemirror_mode": {
    "name": "ipython",
    "version": 3
   },
   "file_extension": ".py",
   "mimetype": "text/x-python",
   "name": "python",
   "nbconvert_exporter": "python",
   "pygments_lexer": "ipython3",
   "version": "3.8.10"
  },
  "vscode": {
   "interpreter": {
    "hash": "17cfeca820c8042f9be97a993a0edda6171e3484eefbce7fbf6b244297e5761f"
   }
  }
 },
 "nbformat": 4,
 "nbformat_minor": 5
}
