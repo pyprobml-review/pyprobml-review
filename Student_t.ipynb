{
  "nbformat": 4,
  "nbformat_minor": 0,
  "metadata": {
    "colab": {
      "name": "Student_t.ipynb",
      "provenance": [],
      "collapsed_sections": []
    },
    "kernelspec": {
      "name": "python3",
      "display_name": "Python 3"
    },
    "language_info": {
      "name": "python"
    },
    "widgets": {
      "application/vnd.jupyter.widget-state+json": {
        "41f02df5ecab4a5a80b7aec409348011": {
          "model_module": "@jupyter-widgets/controls",
          "model_name": "VBoxModel",
          "model_module_version": "1.5.0",
          "state": {
            "_dom_classes": [
              "widget-interact"
            ],
            "_model_module": "@jupyter-widgets/controls",
            "_model_module_version": "1.5.0",
            "_model_name": "VBoxModel",
            "_view_count": null,
            "_view_module": "@jupyter-widgets/controls",
            "_view_module_version": "1.5.0",
            "_view_name": "VBoxView",
            "box_style": "",
            "children": [
              "IPY_MODEL_e4d59f36caa948c2a8f6690309789b5d",
              "IPY_MODEL_145773287595425eadbae4bb1152ca64",
              "IPY_MODEL_069a454dffef45f7839fda457c59a95f",
              "IPY_MODEL_cdd25aeb00b64a7a823a07092a52852a"
            ],
            "layout": "IPY_MODEL_93a338419f3546e1ae7a9beb1ac3fc72"
          }
        },
        "e4d59f36caa948c2a8f6690309789b5d": {
          "model_module": "@jupyter-widgets/controls",
          "model_name": "IntSliderModel",
          "model_module_version": "1.5.0",
          "state": {
            "_dom_classes": [],
            "_model_module": "@jupyter-widgets/controls",
            "_model_module_version": "1.5.0",
            "_model_name": "IntSliderModel",
            "_view_count": null,
            "_view_module": "@jupyter-widgets/controls",
            "_view_module_version": "1.5.0",
            "_view_name": "IntSliderView",
            "continuous_update": true,
            "description": "range",
            "description_tooltip": null,
            "disabled": false,
            "layout": "IPY_MODEL_ab0e392927f642548ac82ea9e8ef400e",
            "max": 10,
            "min": 1,
            "orientation": "horizontal",
            "readout": true,
            "readout_format": "d",
            "step": 1,
            "style": "IPY_MODEL_c0c3494b0c854845a155fe2401e950cf",
            "value": 5
          }
        },
        "145773287595425eadbae4bb1152ca64": {
          "model_module": "@jupyter-widgets/controls",
          "model_name": "IntSliderModel",
          "model_module_version": "1.5.0",
          "state": {
            "_dom_classes": [],
            "_model_module": "@jupyter-widgets/controls",
            "_model_module_version": "1.5.0",
            "_model_name": "IntSliderModel",
            "_view_count": null,
            "_view_module": "@jupyter-widgets/controls",
            "_view_module_version": "1.5.0",
            "_view_name": "IntSliderView",
            "continuous_update": true,
            "description": "number",
            "description_tooltip": null,
            "disabled": false,
            "layout": "IPY_MODEL_acaaa0b1b5464e7fb722fbc7f86f3bdf",
            "max": 1000,
            "min": 100,
            "orientation": "horizontal",
            "readout": true,
            "readout_format": "d",
            "step": 1,
            "style": "IPY_MODEL_d568c0580bed4cac8394ad15203163a2",
            "value": 550
          }
        },
        "069a454dffef45f7839fda457c59a95f": {
          "model_module": "@jupyter-widgets/controls",
          "model_name": "IntSliderModel",
          "model_module_version": "1.5.0",
          "state": {
            "_dom_classes": [],
            "_model_module": "@jupyter-widgets/controls",
            "_model_module_version": "1.5.0",
            "_model_name": "IntSliderModel",
            "_view_count": null,
            "_view_module": "@jupyter-widgets/controls",
            "_view_module_version": "1.5.0",
            "_view_name": "IntSliderView",
            "continuous_update": true,
            "description": "dof",
            "description_tooltip": null,
            "disabled": false,
            "layout": "IPY_MODEL_74c1a4fddaff4d27b1d2db31d3a61281",
            "max": 10,
            "min": 1,
            "orientation": "horizontal",
            "readout": true,
            "readout_format": "d",
            "step": 1,
            "style": "IPY_MODEL_1f527f21f47043e3bd2bbe9fc1866e0b",
            "value": 5
          }
        },
        "cdd25aeb00b64a7a823a07092a52852a": {
          "model_module": "@jupyter-widgets/output",
          "model_name": "OutputModel",
          "model_module_version": "1.0.0",
          "state": {
            "_dom_classes": [],
            "_model_module": "@jupyter-widgets/output",
            "_model_module_version": "1.0.0",
            "_model_name": "OutputModel",
            "_view_count": null,
            "_view_module": "@jupyter-widgets/output",
            "_view_module_version": "1.0.0",
            "_view_name": "OutputView",
            "layout": "IPY_MODEL_2eedcc7effa14bab9026de15b02173a6",
            "msg_id": "",
            "outputs": [
              {
                "output_type": "display_data",
                "data": {
                  "text/plain": "<Figure size 432x288 with 1 Axes>",
                  "image/png": "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\n"
                },
                "metadata": {
                  "needs_background": "light"
                }
              }
            ]
          }
        },
        "93a338419f3546e1ae7a9beb1ac3fc72": {
          "model_module": "@jupyter-widgets/base",
          "model_name": "LayoutModel",
          "model_module_version": "1.2.0",
          "state": {
            "_model_module": "@jupyter-widgets/base",
            "_model_module_version": "1.2.0",
            "_model_name": "LayoutModel",
            "_view_count": null,
            "_view_module": "@jupyter-widgets/base",
            "_view_module_version": "1.2.0",
            "_view_name": "LayoutView",
            "align_content": null,
            "align_items": null,
            "align_self": null,
            "border": null,
            "bottom": null,
            "display": null,
            "flex": null,
            "flex_flow": null,
            "grid_area": null,
            "grid_auto_columns": null,
            "grid_auto_flow": null,
            "grid_auto_rows": null,
            "grid_column": null,
            "grid_gap": null,
            "grid_row": null,
            "grid_template_areas": null,
            "grid_template_columns": null,
            "grid_template_rows": null,
            "height": null,
            "justify_content": null,
            "justify_items": null,
            "left": null,
            "margin": null,
            "max_height": null,
            "max_width": null,
            "min_height": null,
            "min_width": null,
            "object_fit": null,
            "object_position": null,
            "order": null,
            "overflow": null,
            "overflow_x": null,
            "overflow_y": null,
            "padding": null,
            "right": null,
            "top": null,
            "visibility": null,
            "width": null
          }
        },
        "ab0e392927f642548ac82ea9e8ef400e": {
          "model_module": "@jupyter-widgets/base",
          "model_name": "LayoutModel",
          "model_module_version": "1.2.0",
          "state": {
            "_model_module": "@jupyter-widgets/base",
            "_model_module_version": "1.2.0",
            "_model_name": "LayoutModel",
            "_view_count": null,
            "_view_module": "@jupyter-widgets/base",
            "_view_module_version": "1.2.0",
            "_view_name": "LayoutView",
            "align_content": null,
            "align_items": null,
            "align_self": null,
            "border": null,
            "bottom": null,
            "display": null,
            "flex": null,
            "flex_flow": null,
            "grid_area": null,
            "grid_auto_columns": null,
            "grid_auto_flow": null,
            "grid_auto_rows": null,
            "grid_column": null,
            "grid_gap": null,
            "grid_row": null,
            "grid_template_areas": null,
            "grid_template_columns": null,
            "grid_template_rows": null,
            "height": null,
            "justify_content": null,
            "justify_items": null,
            "left": null,
            "margin": null,
            "max_height": null,
            "max_width": null,
            "min_height": null,
            "min_width": null,
            "object_fit": null,
            "object_position": null,
            "order": null,
            "overflow": null,
            "overflow_x": null,
            "overflow_y": null,
            "padding": null,
            "right": null,
            "top": null,
            "visibility": null,
            "width": null
          }
        },
        "c0c3494b0c854845a155fe2401e950cf": {
          "model_module": "@jupyter-widgets/controls",
          "model_name": "SliderStyleModel",
          "model_module_version": "1.5.0",
          "state": {
            "_model_module": "@jupyter-widgets/controls",
            "_model_module_version": "1.5.0",
            "_model_name": "SliderStyleModel",
            "_view_count": null,
            "_view_module": "@jupyter-widgets/base",
            "_view_module_version": "1.2.0",
            "_view_name": "StyleView",
            "description_width": "",
            "handle_color": null
          }
        },
        "acaaa0b1b5464e7fb722fbc7f86f3bdf": {
          "model_module": "@jupyter-widgets/base",
          "model_name": "LayoutModel",
          "model_module_version": "1.2.0",
          "state": {
            "_model_module": "@jupyter-widgets/base",
            "_model_module_version": "1.2.0",
            "_model_name": "LayoutModel",
            "_view_count": null,
            "_view_module": "@jupyter-widgets/base",
            "_view_module_version": "1.2.0",
            "_view_name": "LayoutView",
            "align_content": null,
            "align_items": null,
            "align_self": null,
            "border": null,
            "bottom": null,
            "display": null,
            "flex": null,
            "flex_flow": null,
            "grid_area": null,
            "grid_auto_columns": null,
            "grid_auto_flow": null,
            "grid_auto_rows": null,
            "grid_column": null,
            "grid_gap": null,
            "grid_row": null,
            "grid_template_areas": null,
            "grid_template_columns": null,
            "grid_template_rows": null,
            "height": null,
            "justify_content": null,
            "justify_items": null,
            "left": null,
            "margin": null,
            "max_height": null,
            "max_width": null,
            "min_height": null,
            "min_width": null,
            "object_fit": null,
            "object_position": null,
            "order": null,
            "overflow": null,
            "overflow_x": null,
            "overflow_y": null,
            "padding": null,
            "right": null,
            "top": null,
            "visibility": null,
            "width": null
          }
        },
        "d568c0580bed4cac8394ad15203163a2": {
          "model_module": "@jupyter-widgets/controls",
          "model_name": "SliderStyleModel",
          "model_module_version": "1.5.0",
          "state": {
            "_model_module": "@jupyter-widgets/controls",
            "_model_module_version": "1.5.0",
            "_model_name": "SliderStyleModel",
            "_view_count": null,
            "_view_module": "@jupyter-widgets/base",
            "_view_module_version": "1.2.0",
            "_view_name": "StyleView",
            "description_width": "",
            "handle_color": null
          }
        },
        "74c1a4fddaff4d27b1d2db31d3a61281": {
          "model_module": "@jupyter-widgets/base",
          "model_name": "LayoutModel",
          "model_module_version": "1.2.0",
          "state": {
            "_model_module": "@jupyter-widgets/base",
            "_model_module_version": "1.2.0",
            "_model_name": "LayoutModel",
            "_view_count": null,
            "_view_module": "@jupyter-widgets/base",
            "_view_module_version": "1.2.0",
            "_view_name": "LayoutView",
            "align_content": null,
            "align_items": null,
            "align_self": null,
            "border": null,
            "bottom": null,
            "display": null,
            "flex": null,
            "flex_flow": null,
            "grid_area": null,
            "grid_auto_columns": null,
            "grid_auto_flow": null,
            "grid_auto_rows": null,
            "grid_column": null,
            "grid_gap": null,
            "grid_row": null,
            "grid_template_areas": null,
            "grid_template_columns": null,
            "grid_template_rows": null,
            "height": null,
            "justify_content": null,
            "justify_items": null,
            "left": null,
            "margin": null,
            "max_height": null,
            "max_width": null,
            "min_height": null,
            "min_width": null,
            "object_fit": null,
            "object_position": null,
            "order": null,
            "overflow": null,
            "overflow_x": null,
            "overflow_y": null,
            "padding": null,
            "right": null,
            "top": null,
            "visibility": null,
            "width": null
          }
        },
        "1f527f21f47043e3bd2bbe9fc1866e0b": {
          "model_module": "@jupyter-widgets/controls",
          "model_name": "SliderStyleModel",
          "model_module_version": "1.5.0",
          "state": {
            "_model_module": "@jupyter-widgets/controls",
            "_model_module_version": "1.5.0",
            "_model_name": "SliderStyleModel",
            "_view_count": null,
            "_view_module": "@jupyter-widgets/base",
            "_view_module_version": "1.2.0",
            "_view_name": "StyleView",
            "description_width": "",
            "handle_color": null
          }
        },
        "2eedcc7effa14bab9026de15b02173a6": {
          "model_module": "@jupyter-widgets/base",
          "model_name": "LayoutModel",
          "model_module_version": "1.2.0",
          "state": {
            "_model_module": "@jupyter-widgets/base",
            "_model_module_version": "1.2.0",
            "_model_name": "LayoutModel",
            "_view_count": null,
            "_view_module": "@jupyter-widgets/base",
            "_view_module_version": "1.2.0",
            "_view_name": "LayoutView",
            "align_content": null,
            "align_items": null,
            "align_self": null,
            "border": null,
            "bottom": null,
            "display": null,
            "flex": null,
            "flex_flow": null,
            "grid_area": null,
            "grid_auto_columns": null,
            "grid_auto_flow": null,
            "grid_auto_rows": null,
            "grid_column": null,
            "grid_gap": null,
            "grid_row": null,
            "grid_template_areas": null,
            "grid_template_columns": null,
            "grid_template_rows": null,
            "height": null,
            "justify_content": null,
            "justify_items": null,
            "left": null,
            "margin": null,
            "max_height": null,
            "max_width": null,
            "min_height": null,
            "min_width": null,
            "object_fit": null,
            "object_position": null,
            "order": null,
            "overflow": null,
            "overflow_x": null,
            "overflow_y": null,
            "padding": null,
            "right": null,
            "top": null,
            "visibility": null,
            "width": null
          }
        },
        "8a7ff47a6ca844b4a8bf28e699a585dd": {
          "model_module": "@jupyter-widgets/controls",
          "model_name": "VBoxModel",
          "model_module_version": "1.5.0",
          "state": {
            "_dom_classes": [
              "widget-interact"
            ],
            "_model_module": "@jupyter-widgets/controls",
            "_model_module_version": "1.5.0",
            "_model_name": "VBoxModel",
            "_view_count": null,
            "_view_module": "@jupyter-widgets/controls",
            "_view_module_version": "1.5.0",
            "_view_name": "VBoxView",
            "box_style": "",
            "children": [
              "IPY_MODEL_cd1f91612db74bd48f89dd5cf5ed22ed",
              "IPY_MODEL_73d65ca4b66a44b9b3f76138c1e7b9b3",
              "IPY_MODEL_0ca7810ae47a4c4489bd2772eefd8eb3",
              "IPY_MODEL_bb12a2dcf1c5475398a9578624972ea1"
            ],
            "layout": "IPY_MODEL_935f5a333ad94bf882184d895b782329"
          }
        },
        "cd1f91612db74bd48f89dd5cf5ed22ed": {
          "model_module": "@jupyter-widgets/controls",
          "model_name": "IntSliderModel",
          "model_module_version": "1.5.0",
          "state": {
            "_dom_classes": [],
            "_model_module": "@jupyter-widgets/controls",
            "_model_module_version": "1.5.0",
            "_model_name": "IntSliderModel",
            "_view_count": null,
            "_view_module": "@jupyter-widgets/controls",
            "_view_module_version": "1.5.0",
            "_view_name": "IntSliderView",
            "continuous_update": true,
            "description": "range",
            "description_tooltip": null,
            "disabled": false,
            "layout": "IPY_MODEL_4531b51d013648c4a4276b569759fb70",
            "max": 10,
            "min": 1,
            "orientation": "horizontal",
            "readout": true,
            "readout_format": "d",
            "step": 1,
            "style": "IPY_MODEL_c674d1bbd3ae4ab8a664f359309f5321",
            "value": 5
          }
        },
        "73d65ca4b66a44b9b3f76138c1e7b9b3": {
          "model_module": "@jupyter-widgets/controls",
          "model_name": "IntSliderModel",
          "model_module_version": "1.5.0",
          "state": {
            "_dom_classes": [],
            "_model_module": "@jupyter-widgets/controls",
            "_model_module_version": "1.5.0",
            "_model_name": "IntSliderModel",
            "_view_count": null,
            "_view_module": "@jupyter-widgets/controls",
            "_view_module_version": "1.5.0",
            "_view_name": "IntSliderView",
            "continuous_update": true,
            "description": "number",
            "description_tooltip": null,
            "disabled": false,
            "layout": "IPY_MODEL_c853a3045e7f4485a0b884f0d1230e4e",
            "max": 1000,
            "min": 100,
            "orientation": "horizontal",
            "readout": true,
            "readout_format": "d",
            "step": 1,
            "style": "IPY_MODEL_3979142e5af44f8f9c581fdf611b8769",
            "value": 550
          }
        },
        "0ca7810ae47a4c4489bd2772eefd8eb3": {
          "model_module": "@jupyter-widgets/controls",
          "model_name": "IntSliderModel",
          "model_module_version": "1.5.0",
          "state": {
            "_dom_classes": [],
            "_model_module": "@jupyter-widgets/controls",
            "_model_module_version": "1.5.0",
            "_model_name": "IntSliderModel",
            "_view_count": null,
            "_view_module": "@jupyter-widgets/controls",
            "_view_module_version": "1.5.0",
            "_view_name": "IntSliderView",
            "continuous_update": true,
            "description": "dof",
            "description_tooltip": null,
            "disabled": false,
            "layout": "IPY_MODEL_acbc8b12476540a3b7ddc15733429365",
            "max": 10,
            "min": 1,
            "orientation": "horizontal",
            "readout": true,
            "readout_format": "d",
            "step": 1,
            "style": "IPY_MODEL_b228ad84ac4440b29f879fd67c0677e2",
            "value": 5
          }
        },
        "bb12a2dcf1c5475398a9578624972ea1": {
          "model_module": "@jupyter-widgets/output",
          "model_name": "OutputModel",
          "model_module_version": "1.0.0",
          "state": {
            "_dom_classes": [],
            "_model_module": "@jupyter-widgets/output",
            "_model_module_version": "1.0.0",
            "_model_name": "OutputModel",
            "_view_count": null,
            "_view_module": "@jupyter-widgets/output",
            "_view_module_version": "1.0.0",
            "_view_name": "OutputView",
            "layout": "IPY_MODEL_c7e00f79fed4433295fbe1c20f6171ae",
            "msg_id": "",
            "outputs": [
              {
                "output_type": "display_data",
                "data": {
                  "text/plain": "<Figure size 432x288 with 1 Axes>",
                  "image/png": "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\n"
                },
                "metadata": {
                  "needs_background": "light"
                }
              }
            ]
          }
        },
        "935f5a333ad94bf882184d895b782329": {
          "model_module": "@jupyter-widgets/base",
          "model_name": "LayoutModel",
          "model_module_version": "1.2.0",
          "state": {
            "_model_module": "@jupyter-widgets/base",
            "_model_module_version": "1.2.0",
            "_model_name": "LayoutModel",
            "_view_count": null,
            "_view_module": "@jupyter-widgets/base",
            "_view_module_version": "1.2.0",
            "_view_name": "LayoutView",
            "align_content": null,
            "align_items": null,
            "align_self": null,
            "border": null,
            "bottom": null,
            "display": null,
            "flex": null,
            "flex_flow": null,
            "grid_area": null,
            "grid_auto_columns": null,
            "grid_auto_flow": null,
            "grid_auto_rows": null,
            "grid_column": null,
            "grid_gap": null,
            "grid_row": null,
            "grid_template_areas": null,
            "grid_template_columns": null,
            "grid_template_rows": null,
            "height": null,
            "justify_content": null,
            "justify_items": null,
            "left": null,
            "margin": null,
            "max_height": null,
            "max_width": null,
            "min_height": null,
            "min_width": null,
            "object_fit": null,
            "object_position": null,
            "order": null,
            "overflow": null,
            "overflow_x": null,
            "overflow_y": null,
            "padding": null,
            "right": null,
            "top": null,
            "visibility": null,
            "width": null
          }
        },
        "4531b51d013648c4a4276b569759fb70": {
          "model_module": "@jupyter-widgets/base",
          "model_name": "LayoutModel",
          "model_module_version": "1.2.0",
          "state": {
            "_model_module": "@jupyter-widgets/base",
            "_model_module_version": "1.2.0",
            "_model_name": "LayoutModel",
            "_view_count": null,
            "_view_module": "@jupyter-widgets/base",
            "_view_module_version": "1.2.0",
            "_view_name": "LayoutView",
            "align_content": null,
            "align_items": null,
            "align_self": null,
            "border": null,
            "bottom": null,
            "display": null,
            "flex": null,
            "flex_flow": null,
            "grid_area": null,
            "grid_auto_columns": null,
            "grid_auto_flow": null,
            "grid_auto_rows": null,
            "grid_column": null,
            "grid_gap": null,
            "grid_row": null,
            "grid_template_areas": null,
            "grid_template_columns": null,
            "grid_template_rows": null,
            "height": null,
            "justify_content": null,
            "justify_items": null,
            "left": null,
            "margin": null,
            "max_height": null,
            "max_width": null,
            "min_height": null,
            "min_width": null,
            "object_fit": null,
            "object_position": null,
            "order": null,
            "overflow": null,
            "overflow_x": null,
            "overflow_y": null,
            "padding": null,
            "right": null,
            "top": null,
            "visibility": null,
            "width": null
          }
        },
        "c674d1bbd3ae4ab8a664f359309f5321": {
          "model_module": "@jupyter-widgets/controls",
          "model_name": "SliderStyleModel",
          "model_module_version": "1.5.0",
          "state": {
            "_model_module": "@jupyter-widgets/controls",
            "_model_module_version": "1.5.0",
            "_model_name": "SliderStyleModel",
            "_view_count": null,
            "_view_module": "@jupyter-widgets/base",
            "_view_module_version": "1.2.0",
            "_view_name": "StyleView",
            "description_width": "",
            "handle_color": null
          }
        },
        "c853a3045e7f4485a0b884f0d1230e4e": {
          "model_module": "@jupyter-widgets/base",
          "model_name": "LayoutModel",
          "model_module_version": "1.2.0",
          "state": {
            "_model_module": "@jupyter-widgets/base",
            "_model_module_version": "1.2.0",
            "_model_name": "LayoutModel",
            "_view_count": null,
            "_view_module": "@jupyter-widgets/base",
            "_view_module_version": "1.2.0",
            "_view_name": "LayoutView",
            "align_content": null,
            "align_items": null,
            "align_self": null,
            "border": null,
            "bottom": null,
            "display": null,
            "flex": null,
            "flex_flow": null,
            "grid_area": null,
            "grid_auto_columns": null,
            "grid_auto_flow": null,
            "grid_auto_rows": null,
            "grid_column": null,
            "grid_gap": null,
            "grid_row": null,
            "grid_template_areas": null,
            "grid_template_columns": null,
            "grid_template_rows": null,
            "height": null,
            "justify_content": null,
            "justify_items": null,
            "left": null,
            "margin": null,
            "max_height": null,
            "max_width": null,
            "min_height": null,
            "min_width": null,
            "object_fit": null,
            "object_position": null,
            "order": null,
            "overflow": null,
            "overflow_x": null,
            "overflow_y": null,
            "padding": null,
            "right": null,
            "top": null,
            "visibility": null,
            "width": null
          }
        },
        "3979142e5af44f8f9c581fdf611b8769": {
          "model_module": "@jupyter-widgets/controls",
          "model_name": "SliderStyleModel",
          "model_module_version": "1.5.0",
          "state": {
            "_model_module": "@jupyter-widgets/controls",
            "_model_module_version": "1.5.0",
            "_model_name": "SliderStyleModel",
            "_view_count": null,
            "_view_module": "@jupyter-widgets/base",
            "_view_module_version": "1.2.0",
            "_view_name": "StyleView",
            "description_width": "",
            "handle_color": null
          }
        },
        "acbc8b12476540a3b7ddc15733429365": {
          "model_module": "@jupyter-widgets/base",
          "model_name": "LayoutModel",
          "model_module_version": "1.2.0",
          "state": {
            "_model_module": "@jupyter-widgets/base",
            "_model_module_version": "1.2.0",
            "_model_name": "LayoutModel",
            "_view_count": null,
            "_view_module": "@jupyter-widgets/base",
            "_view_module_version": "1.2.0",
            "_view_name": "LayoutView",
            "align_content": null,
            "align_items": null,
            "align_self": null,
            "border": null,
            "bottom": null,
            "display": null,
            "flex": null,
            "flex_flow": null,
            "grid_area": null,
            "grid_auto_columns": null,
            "grid_auto_flow": null,
            "grid_auto_rows": null,
            "grid_column": null,
            "grid_gap": null,
            "grid_row": null,
            "grid_template_areas": null,
            "grid_template_columns": null,
            "grid_template_rows": null,
            "height": null,
            "justify_content": null,
            "justify_items": null,
            "left": null,
            "margin": null,
            "max_height": null,
            "max_width": null,
            "min_height": null,
            "min_width": null,
            "object_fit": null,
            "object_position": null,
            "order": null,
            "overflow": null,
            "overflow_x": null,
            "overflow_y": null,
            "padding": null,
            "right": null,
            "top": null,
            "visibility": null,
            "width": null
          }
        },
        "b228ad84ac4440b29f879fd67c0677e2": {
          "model_module": "@jupyter-widgets/controls",
          "model_name": "SliderStyleModel",
          "model_module_version": "1.5.0",
          "state": {
            "_model_module": "@jupyter-widgets/controls",
            "_model_module_version": "1.5.0",
            "_model_name": "SliderStyleModel",
            "_view_count": null,
            "_view_module": "@jupyter-widgets/base",
            "_view_module_version": "1.2.0",
            "_view_name": "StyleView",
            "description_width": "",
            "handle_color": null
          }
        },
        "c7e00f79fed4433295fbe1c20f6171ae": {
          "model_module": "@jupyter-widgets/base",
          "model_name": "LayoutModel",
          "model_module_version": "1.2.0",
          "state": {
            "_model_module": "@jupyter-widgets/base",
            "_model_module_version": "1.2.0",
            "_model_name": "LayoutModel",
            "_view_count": null,
            "_view_module": "@jupyter-widgets/base",
            "_view_module_version": "1.2.0",
            "_view_name": "LayoutView",
            "align_content": null,
            "align_items": null,
            "align_self": null,
            "border": null,
            "bottom": null,
            "display": null,
            "flex": null,
            "flex_flow": null,
            "grid_area": null,
            "grid_auto_columns": null,
            "grid_auto_flow": null,
            "grid_auto_rows": null,
            "grid_column": null,
            "grid_gap": null,
            "grid_row": null,
            "grid_template_areas": null,
            "grid_template_columns": null,
            "grid_template_rows": null,
            "height": null,
            "justify_content": null,
            "justify_items": null,
            "left": null,
            "margin": null,
            "max_height": null,
            "max_width": null,
            "min_height": null,
            "min_width": null,
            "object_fit": null,
            "object_position": null,
            "order": null,
            "overflow": null,
            "overflow_x": null,
            "overflow_y": null,
            "padding": null,
            "right": null,
            "top": null,
            "visibility": null,
            "width": null
          }
        }
      }
    }
  },
  "cells": [
    {
      "cell_type": "code",
      "execution_count": null,
      "metadata": {
        "id": "M97CkaP22vd_",
        "colab": {
          "base_uri": "https://localhost:8080/"
        },
        "outputId": "783aec1f-3331-47b9-ffa6-105e5cdf1ab5"
      },
      "outputs": [
        {
          "output_type": "stream",
          "name": "stdout",
          "text": [
            "Collecting git+https://github.com/probml/probml-utils.git\n",
            "  Cloning https://github.com/probml/probml-utils.git to /tmp/pip-req-build-f5cnghfq\n",
            "  Running command git clone -q https://github.com/probml/probml-utils.git /tmp/pip-req-build-f5cnghfq\n",
            "  Installing build dependencies ... \u001b[?25l\u001b[?25hdone\n",
            "  Getting requirements to build wheel ... \u001b[?25l\u001b[?25hdone\n",
            "    Preparing wheel metadata ... \u001b[?25l\u001b[?25hdone\n",
            "Requirement already satisfied: graphviz in /usr/local/lib/python3.7/dist-packages (from probml-utils==0.1.dev48+gb130363) (0.10.1)\n",
            "Requirement already satisfied: jaxlib in /usr/local/lib/python3.7/dist-packages (from probml-utils==0.1.dev48+gb130363) (0.3.7+cuda11.cudnn805)\n",
            "Requirement already satisfied: matplotlib in /usr/local/lib/python3.7/dist-packages (from probml-utils==0.1.dev48+gb130363) (3.2.2)\n",
            "Requirement already satisfied: numpy in /usr/local/lib/python3.7/dist-packages (from probml-utils==0.1.dev48+gb130363) (1.21.6)\n",
            "Requirement already satisfied: regex in /usr/local/lib/python3.7/dist-packages (from probml-utils==0.1.dev48+gb130363) (2019.12.20)\n",
            "Requirement already satisfied: jupyter in /usr/local/lib/python3.7/dist-packages (from probml-utils==0.1.dev48+gb130363) (1.0.0)\n",
            "Requirement already satisfied: scikit-learn in /usr/local/lib/python3.7/dist-packages (from probml-utils==0.1.dev48+gb130363) (1.0.2)\n",
            "Collecting distrax\n",
            "  Downloading distrax-0.1.2-py3-none-any.whl (272 kB)\n",
            "\u001b[K     |████████████████████████████████| 272 kB 12.5 MB/s \n",
            "\u001b[?25hRequirement already satisfied: firebase-admin in /usr/local/lib/python3.7/dist-packages (from probml-utils==0.1.dev48+gb130363) (4.4.0)\n",
            "Requirement already satisfied: jax in /usr/local/lib/python3.7/dist-packages (from probml-utils==0.1.dev48+gb130363) (0.3.8)\n",
            "Requirement already satisfied: pandas in /usr/local/lib/python3.7/dist-packages (from probml-utils==0.1.dev48+gb130363) (1.3.5)\n",
            "Collecting TexSoup\n",
            "  Downloading TexSoup-0.3.1.tar.gz (26 kB)\n",
            "Requirement already satisfied: scipy in /usr/local/lib/python3.7/dist-packages (from probml-utils==0.1.dev48+gb130363) (1.4.1)\n",
            "Collecting chex>=0.0.7\n",
            "  Downloading chex-0.1.3-py3-none-any.whl (72 kB)\n",
            "\u001b[K     |████████████████████████████████| 72 kB 415 kB/s \n",
            "\u001b[?25hRequirement already satisfied: tensorflow-probability>=0.15.0 in /usr/local/lib/python3.7/dist-packages (from distrax->probml-utils==0.1.dev48+gb130363) (0.16.0)\n",
            "Requirement already satisfied: absl-py>=0.9.0 in /usr/local/lib/python3.7/dist-packages (from distrax->probml-utils==0.1.dev48+gb130363) (1.0.0)\n",
            "Requirement already satisfied: six in /usr/local/lib/python3.7/dist-packages (from absl-py>=0.9.0->distrax->probml-utils==0.1.dev48+gb130363) (1.15.0)\n",
            "Requirement already satisfied: toolz>=0.9.0 in /usr/local/lib/python3.7/dist-packages (from chex>=0.0.7->distrax->probml-utils==0.1.dev48+gb130363) (0.11.2)\n",
            "Requirement already satisfied: dm-tree>=0.1.5 in /usr/local/lib/python3.7/dist-packages (from chex>=0.0.7->distrax->probml-utils==0.1.dev48+gb130363) (0.1.7)\n",
            "Requirement already satisfied: opt-einsum in /usr/local/lib/python3.7/dist-packages (from jax->probml-utils==0.1.dev48+gb130363) (3.3.0)\n",
            "Requirement already satisfied: typing-extensions in /usr/local/lib/python3.7/dist-packages (from jax->probml-utils==0.1.dev48+gb130363) (4.2.0)\n",
            "Requirement already satisfied: flatbuffers<3.0,>=1.12 in /usr/local/lib/python3.7/dist-packages (from jaxlib->probml-utils==0.1.dev48+gb130363) (2.0)\n",
            "Requirement already satisfied: gast>=0.3.2 in /usr/local/lib/python3.7/dist-packages (from tensorflow-probability>=0.15.0->distrax->probml-utils==0.1.dev48+gb130363) (0.5.3)\n",
            "Requirement already satisfied: cloudpickle>=1.3 in /usr/local/lib/python3.7/dist-packages (from tensorflow-probability>=0.15.0->distrax->probml-utils==0.1.dev48+gb130363) (1.3.0)\n",
            "Requirement already satisfied: decorator in /usr/local/lib/python3.7/dist-packages (from tensorflow-probability>=0.15.0->distrax->probml-utils==0.1.dev48+gb130363) (4.4.2)\n",
            "Requirement already satisfied: google-cloud-firestore>=1.4.0 in /usr/local/lib/python3.7/dist-packages (from firebase-admin->probml-utils==0.1.dev48+gb130363) (1.7.0)\n",
            "Requirement already satisfied: cachecontrol>=0.12.6 in /usr/local/lib/python3.7/dist-packages (from firebase-admin->probml-utils==0.1.dev48+gb130363) (0.12.11)\n",
            "Requirement already satisfied: google-api-core[grpc]<2.0.0dev,>=1.14.0 in /usr/local/lib/python3.7/dist-packages (from firebase-admin->probml-utils==0.1.dev48+gb130363) (1.31.5)\n",
            "Requirement already satisfied: google-cloud-storage>=1.18.0 in /usr/local/lib/python3.7/dist-packages (from firebase-admin->probml-utils==0.1.dev48+gb130363) (1.18.1)\n",
            "Requirement already satisfied: google-api-python-client>=1.7.8 in /usr/local/lib/python3.7/dist-packages (from firebase-admin->probml-utils==0.1.dev48+gb130363) (1.12.11)\n",
            "Requirement already satisfied: requests in /usr/local/lib/python3.7/dist-packages (from cachecontrol>=0.12.6->firebase-admin->probml-utils==0.1.dev48+gb130363) (2.23.0)\n",
            "Requirement already satisfied: msgpack>=0.5.2 in /usr/local/lib/python3.7/dist-packages (from cachecontrol>=0.12.6->firebase-admin->probml-utils==0.1.dev48+gb130363) (1.0.3)\n",
            "Requirement already satisfied: pytz in /usr/local/lib/python3.7/dist-packages (from google-api-core[grpc]<2.0.0dev,>=1.14.0->firebase-admin->probml-utils==0.1.dev48+gb130363) (2022.1)\n",
            "Requirement already satisfied: protobuf>=3.12.0 in /usr/local/lib/python3.7/dist-packages (from google-api-core[grpc]<2.0.0dev,>=1.14.0->firebase-admin->probml-utils==0.1.dev48+gb130363) (3.17.3)\n",
            "Requirement already satisfied: setuptools>=40.3.0 in /usr/local/lib/python3.7/dist-packages (from google-api-core[grpc]<2.0.0dev,>=1.14.0->firebase-admin->probml-utils==0.1.dev48+gb130363) (57.4.0)\n",
            "Requirement already satisfied: packaging>=14.3 in /usr/local/lib/python3.7/dist-packages (from google-api-core[grpc]<2.0.0dev,>=1.14.0->firebase-admin->probml-utils==0.1.dev48+gb130363) (21.3)\n",
            "Requirement already satisfied: googleapis-common-protos<2.0dev,>=1.6.0 in /usr/local/lib/python3.7/dist-packages (from google-api-core[grpc]<2.0.0dev,>=1.14.0->firebase-admin->probml-utils==0.1.dev48+gb130363) (1.56.0)\n",
            "Requirement already satisfied: google-auth<2.0dev,>=1.25.0 in /usr/local/lib/python3.7/dist-packages (from google-api-core[grpc]<2.0.0dev,>=1.14.0->firebase-admin->probml-utils==0.1.dev48+gb130363) (1.35.0)\n",
            "Requirement already satisfied: grpcio<2.0dev,>=1.29.0 in /usr/local/lib/python3.7/dist-packages (from google-api-core[grpc]<2.0.0dev,>=1.14.0->firebase-admin->probml-utils==0.1.dev48+gb130363) (1.44.0)\n",
            "Requirement already satisfied: google-auth-httplib2>=0.0.3 in /usr/local/lib/python3.7/dist-packages (from google-api-python-client>=1.7.8->firebase-admin->probml-utils==0.1.dev48+gb130363) (0.0.4)\n",
            "Requirement already satisfied: uritemplate<4dev,>=3.0.0 in /usr/local/lib/python3.7/dist-packages (from google-api-python-client>=1.7.8->firebase-admin->probml-utils==0.1.dev48+gb130363) (3.0.1)\n",
            "Requirement already satisfied: httplib2<1dev,>=0.15.0 in /usr/local/lib/python3.7/dist-packages (from google-api-python-client>=1.7.8->firebase-admin->probml-utils==0.1.dev48+gb130363) (0.17.4)\n",
            "Requirement already satisfied: rsa<5,>=3.1.4 in /usr/local/lib/python3.7/dist-packages (from google-auth<2.0dev,>=1.25.0->google-api-core[grpc]<2.0.0dev,>=1.14.0->firebase-admin->probml-utils==0.1.dev48+gb130363) (4.8)\n",
            "Requirement already satisfied: cachetools<5.0,>=2.0.0 in /usr/local/lib/python3.7/dist-packages (from google-auth<2.0dev,>=1.25.0->google-api-core[grpc]<2.0.0dev,>=1.14.0->firebase-admin->probml-utils==0.1.dev48+gb130363) (4.2.4)\n",
            "Requirement already satisfied: pyasn1-modules>=0.2.1 in /usr/local/lib/python3.7/dist-packages (from google-auth<2.0dev,>=1.25.0->google-api-core[grpc]<2.0.0dev,>=1.14.0->firebase-admin->probml-utils==0.1.dev48+gb130363) (0.2.8)\n",
            "Requirement already satisfied: google-cloud-core<2.0dev,>=1.0.3 in /usr/local/lib/python3.7/dist-packages (from google-cloud-firestore>=1.4.0->firebase-admin->probml-utils==0.1.dev48+gb130363) (1.0.3)\n",
            "Requirement already satisfied: google-resumable-media<0.5.0dev,>=0.3.1 in /usr/local/lib/python3.7/dist-packages (from google-cloud-storage>=1.18.0->firebase-admin->probml-utils==0.1.dev48+gb130363) (0.4.1)\n",
            "Requirement already satisfied: pyparsing!=3.0.5,>=2.0.2 in /usr/local/lib/python3.7/dist-packages (from packaging>=14.3->google-api-core[grpc]<2.0.0dev,>=1.14.0->firebase-admin->probml-utils==0.1.dev48+gb130363) (3.0.8)\n",
            "Requirement already satisfied: pyasn1<0.5.0,>=0.4.6 in /usr/local/lib/python3.7/dist-packages (from pyasn1-modules>=0.2.1->google-auth<2.0dev,>=1.25.0->google-api-core[grpc]<2.0.0dev,>=1.14.0->firebase-admin->probml-utils==0.1.dev48+gb130363) (0.4.8)\n",
            "Requirement already satisfied: certifi>=2017.4.17 in /usr/local/lib/python3.7/dist-packages (from requests->cachecontrol>=0.12.6->firebase-admin->probml-utils==0.1.dev48+gb130363) (2021.10.8)\n",
            "Requirement already satisfied: chardet<4,>=3.0.2 in /usr/local/lib/python3.7/dist-packages (from requests->cachecontrol>=0.12.6->firebase-admin->probml-utils==0.1.dev48+gb130363) (3.0.4)\n",
            "Requirement already satisfied: idna<3,>=2.5 in /usr/local/lib/python3.7/dist-packages (from requests->cachecontrol>=0.12.6->firebase-admin->probml-utils==0.1.dev48+gb130363) (2.10)\n",
            "Requirement already satisfied: urllib3!=1.25.0,!=1.25.1,<1.26,>=1.21.1 in /usr/local/lib/python3.7/dist-packages (from requests->cachecontrol>=0.12.6->firebase-admin->probml-utils==0.1.dev48+gb130363) (1.24.3)\n",
            "Requirement already satisfied: qtconsole in /usr/local/lib/python3.7/dist-packages (from jupyter->probml-utils==0.1.dev48+gb130363) (5.3.0)\n",
            "Requirement already satisfied: notebook in /usr/local/lib/python3.7/dist-packages (from jupyter->probml-utils==0.1.dev48+gb130363) (5.3.1)\n",
            "Requirement already satisfied: ipykernel in /usr/local/lib/python3.7/dist-packages (from jupyter->probml-utils==0.1.dev48+gb130363) (4.10.1)\n",
            "Requirement already satisfied: ipywidgets in /usr/local/lib/python3.7/dist-packages (from jupyter->probml-utils==0.1.dev48+gb130363) (7.7.0)\n",
            "Requirement already satisfied: nbconvert in /usr/local/lib/python3.7/dist-packages (from jupyter->probml-utils==0.1.dev48+gb130363) (5.6.1)\n",
            "Requirement already satisfied: jupyter-console in /usr/local/lib/python3.7/dist-packages (from jupyter->probml-utils==0.1.dev48+gb130363) (5.2.0)\n",
            "Requirement already satisfied: jupyter-client in /usr/local/lib/python3.7/dist-packages (from ipykernel->jupyter->probml-utils==0.1.dev48+gb130363) (5.3.5)\n",
            "Requirement already satisfied: ipython>=4.0.0 in /usr/local/lib/python3.7/dist-packages (from ipykernel->jupyter->probml-utils==0.1.dev48+gb130363) (5.5.0)\n",
            "Requirement already satisfied: tornado>=4.0 in /usr/local/lib/python3.7/dist-packages (from ipykernel->jupyter->probml-utils==0.1.dev48+gb130363) (5.1.1)\n",
            "Requirement already satisfied: traitlets>=4.1.0 in /usr/local/lib/python3.7/dist-packages (from ipykernel->jupyter->probml-utils==0.1.dev48+gb130363) (5.1.1)\n",
            "Requirement already satisfied: pygments in /usr/local/lib/python3.7/dist-packages (from ipython>=4.0.0->ipykernel->jupyter->probml-utils==0.1.dev48+gb130363) (2.6.1)\n",
            "Requirement already satisfied: prompt-toolkit<2.0.0,>=1.0.4 in /usr/local/lib/python3.7/dist-packages (from ipython>=4.0.0->ipykernel->jupyter->probml-utils==0.1.dev48+gb130363) (1.0.18)\n",
            "Requirement already satisfied: pexpect in /usr/local/lib/python3.7/dist-packages (from ipython>=4.0.0->ipykernel->jupyter->probml-utils==0.1.dev48+gb130363) (4.8.0)\n",
            "Requirement already satisfied: pickleshare in /usr/local/lib/python3.7/dist-packages (from ipython>=4.0.0->ipykernel->jupyter->probml-utils==0.1.dev48+gb130363) (0.7.5)\n",
            "Requirement already satisfied: simplegeneric>0.8 in /usr/local/lib/python3.7/dist-packages (from ipython>=4.0.0->ipykernel->jupyter->probml-utils==0.1.dev48+gb130363) (0.8.1)\n",
            "Requirement already satisfied: wcwidth in /usr/local/lib/python3.7/dist-packages (from prompt-toolkit<2.0.0,>=1.0.4->ipython>=4.0.0->ipykernel->jupyter->probml-utils==0.1.dev48+gb130363) (0.2.5)\n",
            "Requirement already satisfied: jupyterlab-widgets>=1.0.0 in /usr/local/lib/python3.7/dist-packages (from ipywidgets->jupyter->probml-utils==0.1.dev48+gb130363) (1.1.0)\n",
            "Requirement already satisfied: widgetsnbextension~=3.6.0 in /usr/local/lib/python3.7/dist-packages (from ipywidgets->jupyter->probml-utils==0.1.dev48+gb130363) (3.6.0)\n",
            "Requirement already satisfied: ipython-genutils~=0.2.0 in /usr/local/lib/python3.7/dist-packages (from ipywidgets->jupyter->probml-utils==0.1.dev48+gb130363) (0.2.0)\n",
            "Requirement already satisfied: nbformat>=4.2.0 in /usr/local/lib/python3.7/dist-packages (from ipywidgets->jupyter->probml-utils==0.1.dev48+gb130363) (5.3.0)\n",
            "Requirement already satisfied: fastjsonschema in /usr/local/lib/python3.7/dist-packages (from nbformat>=4.2.0->ipywidgets->jupyter->probml-utils==0.1.dev48+gb130363) (2.15.3)\n",
            "Requirement already satisfied: jsonschema>=2.6 in /usr/local/lib/python3.7/dist-packages (from nbformat>=4.2.0->ipywidgets->jupyter->probml-utils==0.1.dev48+gb130363) (4.3.3)\n",
            "Requirement already satisfied: jupyter-core in /usr/local/lib/python3.7/dist-packages (from nbformat>=4.2.0->ipywidgets->jupyter->probml-utils==0.1.dev48+gb130363) (4.10.0)\n",
            "Requirement already satisfied: importlib-metadata in /usr/local/lib/python3.7/dist-packages (from jsonschema>=2.6->nbformat>=4.2.0->ipywidgets->jupyter->probml-utils==0.1.dev48+gb130363) (4.11.3)\n",
            "Requirement already satisfied: importlib-resources>=1.4.0 in /usr/local/lib/python3.7/dist-packages (from jsonschema>=2.6->nbformat>=4.2.0->ipywidgets->jupyter->probml-utils==0.1.dev48+gb130363) (5.7.1)\n",
            "Requirement already satisfied: attrs>=17.4.0 in /usr/local/lib/python3.7/dist-packages (from jsonschema>=2.6->nbformat>=4.2.0->ipywidgets->jupyter->probml-utils==0.1.dev48+gb130363) (21.4.0)\n",
            "Requirement already satisfied: pyrsistent!=0.17.0,!=0.17.1,!=0.17.2,>=0.14.0 in /usr/local/lib/python3.7/dist-packages (from jsonschema>=2.6->nbformat>=4.2.0->ipywidgets->jupyter->probml-utils==0.1.dev48+gb130363) (0.18.1)\n",
            "Requirement already satisfied: zipp>=3.1.0 in /usr/local/lib/python3.7/dist-packages (from importlib-resources>=1.4.0->jsonschema>=2.6->nbformat>=4.2.0->ipywidgets->jupyter->probml-utils==0.1.dev48+gb130363) (3.8.0)\n",
            "Requirement already satisfied: terminado>=0.8.1 in /usr/local/lib/python3.7/dist-packages (from notebook->jupyter->probml-utils==0.1.dev48+gb130363) (0.13.3)\n",
            "Requirement already satisfied: jinja2 in /usr/local/lib/python3.7/dist-packages (from notebook->jupyter->probml-utils==0.1.dev48+gb130363) (2.11.3)\n",
            "Requirement already satisfied: Send2Trash in /usr/local/lib/python3.7/dist-packages (from notebook->jupyter->probml-utils==0.1.dev48+gb130363) (1.8.0)\n",
            "Requirement already satisfied: python-dateutil>=2.1 in /usr/local/lib/python3.7/dist-packages (from jupyter-client->ipykernel->jupyter->probml-utils==0.1.dev48+gb130363) (2.8.2)\n",
            "Requirement already satisfied: pyzmq>=13 in /usr/local/lib/python3.7/dist-packages (from jupyter-client->ipykernel->jupyter->probml-utils==0.1.dev48+gb130363) (22.3.0)\n",
            "Requirement already satisfied: ptyprocess in /usr/local/lib/python3.7/dist-packages (from terminado>=0.8.1->notebook->jupyter->probml-utils==0.1.dev48+gb130363) (0.7.0)\n",
            "Requirement already satisfied: MarkupSafe>=0.23 in /usr/local/lib/python3.7/dist-packages (from jinja2->notebook->jupyter->probml-utils==0.1.dev48+gb130363) (2.0.1)\n",
            "Requirement already satisfied: kiwisolver>=1.0.1 in /usr/local/lib/python3.7/dist-packages (from matplotlib->probml-utils==0.1.dev48+gb130363) (1.4.2)\n",
            "Requirement already satisfied: cycler>=0.10 in /usr/local/lib/python3.7/dist-packages (from matplotlib->probml-utils==0.1.dev48+gb130363) (0.11.0)\n",
            "Requirement already satisfied: bleach in /usr/local/lib/python3.7/dist-packages (from nbconvert->jupyter->probml-utils==0.1.dev48+gb130363) (5.0.0)\n",
            "Requirement already satisfied: pandocfilters>=1.4.1 in /usr/local/lib/python3.7/dist-packages (from nbconvert->jupyter->probml-utils==0.1.dev48+gb130363) (1.5.0)\n",
            "Requirement already satisfied: defusedxml in /usr/local/lib/python3.7/dist-packages (from nbconvert->jupyter->probml-utils==0.1.dev48+gb130363) (0.7.1)\n",
            "Requirement already satisfied: mistune<2,>=0.8.1 in /usr/local/lib/python3.7/dist-packages (from nbconvert->jupyter->probml-utils==0.1.dev48+gb130363) (0.8.4)\n",
            "Requirement already satisfied: entrypoints>=0.2.2 in /usr/local/lib/python3.7/dist-packages (from nbconvert->jupyter->probml-utils==0.1.dev48+gb130363) (0.4)\n",
            "Requirement already satisfied: testpath in /usr/local/lib/python3.7/dist-packages (from nbconvert->jupyter->probml-utils==0.1.dev48+gb130363) (0.6.0)\n",
            "Requirement already satisfied: webencodings in /usr/local/lib/python3.7/dist-packages (from bleach->nbconvert->jupyter->probml-utils==0.1.dev48+gb130363) (0.5.1)\n",
            "Requirement already satisfied: qtpy>=2.0.1 in /usr/local/lib/python3.7/dist-packages (from qtconsole->jupyter->probml-utils==0.1.dev48+gb130363) (2.1.0)\n",
            "Requirement already satisfied: joblib>=0.11 in /usr/local/lib/python3.7/dist-packages (from scikit-learn->probml-utils==0.1.dev48+gb130363) (1.1.0)\n",
            "Requirement already satisfied: threadpoolctl>=2.0.0 in /usr/local/lib/python3.7/dist-packages (from scikit-learn->probml-utils==0.1.dev48+gb130363) (3.1.0)\n",
            "Building wheels for collected packages: probml-utils, TexSoup\n",
            "  Building wheel for probml-utils (PEP 517) ... \u001b[?25l\u001b[?25hdone\n",
            "  Created wheel for probml-utils: filename=probml_utils-0.1.dev48+gb130363-py3-none-any.whl size=32273 sha256=4749428049fad990a2fef18c3f5a136ffe9e039367db29f69ba7e4c8c083b029\n",
            "  Stored in directory: /tmp/pip-ephem-wheel-cache-rqxsy521/wheels/37/8f/cb/b845cd5de3d7f648717815f9c27bec49975bf58637a97fa6be\n",
            "  Building wheel for TexSoup (setup.py) ... \u001b[?25l\u001b[?25hdone\n",
            "  Created wheel for TexSoup: filename=TexSoup-0.3.1-py3-none-any.whl size=27666 sha256=777897a59cf3d632148bf0e9569706a100869a89926e7102ebca1973633dc173\n",
            "  Stored in directory: /root/.cache/pip/wheels/2b/8e/c6/7ee3f9f9776fd18c0ccb04492902ed42225b6dfab3c68f14c0\n",
            "Successfully built probml-utils TexSoup\n",
            "Installing collected packages: chex, TexSoup, distrax, probml-utils\n",
            "Successfully installed TexSoup-0.3.1 chex-0.1.3 distrax-0.1.2 probml-utils-0.1.dev48+gb130363\n"
          ]
        }
      ],
      "source": [
        "import jax\n",
        "import jax.numpy as jnp\n",
        "import matplotlib.pyplot as plt\n",
        "import seaborn as sns\n",
        "from scipy.stats import t, laplace, norm\n",
        "\n",
        "try:\n",
        "    from probml_utils import savefig, latexify\n",
        "except:\n",
        "    %pip install git+https://github.com/probml/probml-utils.git\n",
        "    from probml_utils import savefig, latexify"
      ]
    },
    {
      "cell_type": "code",
      "source": [
        "latexify(width_scale_factor=2)"
      ],
      "metadata": {
        "colab": {
          "base_uri": "https://localhost:8080/"
        },
        "id": "cbXcVYR425R0",
        "outputId": "d586eb6c-4d4a-473a-aecb-44b62203ccd7"
      },
      "execution_count": null,
      "outputs": [
        {
          "output_type": "stream",
          "name": "stderr",
          "text": [
            "/usr/local/lib/python3.7/dist-packages/probml_utils/plotting.py:26: UserWarning: LATEXIFY environment variable not set, not latexifying\n",
            "  warnings.warn(\"LATEXIFY environment variable not set, not latexifying\")\n"
          ]
        }
      ]
    },
    {
      "cell_type": "code",
      "source": [
        "def studentt(limits, number, degrees_of_freedom, save_name, fig=None, ax=None):\n",
        "  x = jnp.linspace(-limits, limits, number)\n",
        "  norm_pdf = norm.pdf(x, loc=0, scale=1)\n",
        "  laplace_pdf = laplace.pdf(x, loc=0, scale=1 / (2 ** 0.5))\n",
        "  student_t_pdf = t.pdf(x, df= degrees_of_freedom, loc=0, scale=1)\n",
        "\n",
        "  if fig is None:\n",
        "        fig, ax = plt.subplots()\n",
        "\n",
        "  ax.plot(x, norm_pdf, 'k:')\n",
        "  ax.plot(x, student_t_pdf, 'b--')\n",
        "  ax.plot(x, laplace_pdf, 'r--')\n",
        "  ax.set_xlabel(\"$x$\")\n",
        "  ax.set_ylabel(\"$P(x)$\")\n",
        "  ax.legend(('Gaussian Distribution', 'Student-t Distribution', 'Laplacian Distribution'))\n",
        "\n",
        "  sns.despine()\n",
        "  if len(save_name) > 0:\n",
        "      savefig(save_name)\n",
        "  return fig, ax\n",
        "\n",
        "_, _ = studentt(4, 100, 1, \"uniform_histogram_latexified\")\n"
      ],
      "metadata": {
        "colab": {
          "base_uri": "https://localhost:8080/",
          "height": 335
        },
        "id": "R482vBGC3MGn",
        "outputId": "69f5e264-4d8a-4e45-b253-d60630914554"
      },
      "execution_count": null,
      "outputs": [
        {
          "output_type": "stream",
          "name": "stderr",
          "text": [
            "WARNING:absl:No GPU/TPU found, falling back to CPU. (Set TF_CPP_MIN_LOG_LEVEL=0 and rerun for more info.)\n",
            "/usr/local/lib/python3.7/dist-packages/probml_utils/plotting.py:79: UserWarning: set FIG_DIR environment variable to save figures\n",
            "  warnings.warn(\"set FIG_DIR environment variable to save figures\")\n"
          ]
        },
        {
          "output_type": "display_data",
          "data": {
            "text/plain": [
              "<Figure size 432x288 with 1 Axes>"
            ],
            "image/png": "[encoded data removed]"
          },
          "metadata": {
            "needs_background": "light"
          }
        }
      ]
    },
    {
      "cell_type": "code",
      "source": [
        "from ipywidgets import interact\n",
        "@interact(range=(1, 10), number=(100, 1000), dof=(1,10))\n",
        "def interactive_studentt(range, number, dof):\n",
        "  fig, ax = studentt(range, number, dof, \"\")"
      ],
      "metadata": {
        "colab": {
          "base_uri": "https://localhost:8080/",
          "height": 375,
          "referenced_widgets": [
            "41f02df5ecab4a5a80b7aec409348011",
            "e4d59f36caa948c2a8f6690309789b5d",
            "145773287595425eadbae4bb1152ca64",
            "069a454dffef45f7839fda457c59a95f",
            "cdd25aeb00b64a7a823a07092a52852a",
            "93a338419f3546e1ae7a9beb1ac3fc72",
            "ab0e392927f642548ac82ea9e8ef400e",
            "c0c3494b0c854845a155fe2401e950cf",
            "acaaa0b1b5464e7fb722fbc7f86f3bdf",
            "d568c0580bed4cac8394ad15203163a2",
            "74c1a4fddaff4d27b1d2db31d3a61281",
            "1f527f21f47043e3bd2bbe9fc1866e0b",
            "2eedcc7effa14bab9026de15b02173a6"
          ]
        },
        "id": "6tPptulokf_F",
        "outputId": "04a9f3e4-884a-45c4-f1c6-e3a194674708"
      },
      "execution_count": null,
      "outputs": [
        {
          "output_type": "display_data",
          "data": {
            "text/plain": [
              "interactive(children=(IntSlider(value=5, description='range', max=10, min=1), IntSlider(value=550, description…"
            ],
            "application/vnd.jupyter.widget-view+json": {
              "version_major": 2,
              "version_minor": 0,
              "model_id": "41f02df5ecab4a5a80b7aec409348011"
            }
          },
          "metadata": {}
        }
      ]
    },
    {
      "cell_type": "code",
      "source": [
        "def studenttlog(limits, number, degrees_of_freedom, save_name, fig=None, ax=None):\n",
        "  x = jnp.linspace(-limits, limits, number)\n",
        "  norm_pdf = norm.pdf(x, loc=0, scale=1)\n",
        "  laplace_pdf = laplace.pdf(x, loc=0, scale=1 / (2 ** 0.5))\n",
        "  student_t_pdf = t.pdf(x, df= degrees_of_freedom, loc=0, scale=1)\n",
        "\n",
        "  if fig is None:\n",
        "        fig, ax = plt.subplots()\n",
        "\n",
        "  ax.plot(x, jnp.log(norm_pdf), 'k:')\n",
        "  ax.plot(x, jnp.log(student_t_pdf), 'b--')\n",
        "  ax.plot(x, jnp.log(laplace_pdf), 'r--')\n",
        "  ax.set_xlabel(\"$x$\")\n",
        "  ax.set_ylabel(\"log$P(x)$\")\n",
        "  ax.legend(('Gaussian Distribution', 'Student-t Distribution', 'Laplacian Distribution'))\n",
        "\n",
        "  sns.despine()\n",
        "  if len(save_name) > 0:\n",
        "      savefig(save_name)\n",
        "  return fig, ax\n",
        "\n",
        "_, _ = studenttlog(4, 100, 1, \"uniform_histogram_latexified\")\n"
      ],
      "metadata": {
        "id": "CMmZManMuktI",
        "colab": {
          "base_uri": "https://localhost:8080/",
          "height": 318
        },
        "outputId": "64dccf3a-9015-4147-b99e-3f5cd906d8ba"
      },
      "execution_count": null,
      "outputs": [
        {
          "output_type": "stream",
          "name": "stderr",
          "text": [
            "/usr/local/lib/python3.7/dist-packages/probml_utils/plotting.py:79: UserWarning: set FIG_DIR environment variable to save figures\n",
            "  warnings.warn(\"set FIG_DIR environment variable to save figures\")\n"
          ]
        },
        {
          "output_type": "display_data",
          "data": {
            "text/plain": [
              "<Figure size 432x288 with 1 Axes>"
            ],
            "image/png": "[encoded data removed]"
          },
          "metadata": {
            "needs_background": "light"
          }
        }
      ]
    },
    {
      "cell_type": "code",
      "source": [
        "from ipywidgets import interact\n",
        "@interact(range=(1, 10), number=(100, 1000), dof=(1,10))\n",
        "def interactive_studentt_log(range, number, dof):\n",
        "  fig, ax = studenttlog(range, number, dof, \"\")"
      ],
      "metadata": {
        "colab": {
          "base_uri": "https://localhost:8080/",
          "height": 375,
          "referenced_widgets": [
            "8a7ff47a6ca844b4a8bf28e699a585dd",
            "cd1f91612db74bd48f89dd5cf5ed22ed",
            "73d65ca4b66a44b9b3f76138c1e7b9b3",
            "0ca7810ae47a4c4489bd2772eefd8eb3",
            "bb12a2dcf1c5475398a9578624972ea1",
            "935f5a333ad94bf882184d895b782329",
            "4531b51d013648c4a4276b569759fb70",
            "c674d1bbd3ae4ab8a664f359309f5321",
            "c853a3045e7f4485a0b884f0d1230e4e",
            "3979142e5af44f8f9c581fdf611b8769",
            "acbc8b12476540a3b7ddc15733429365",
            "b228ad84ac4440b29f879fd67c0677e2",
            "c7e00f79fed4433295fbe1c20f6171ae"
          ]
        },
        "id": "Yse4dAuxJHAD",
        "outputId": "52fd4c7d-60c5-494c-f9c6-94487240fe66"
      },
      "execution_count": null,
      "outputs": [
        {
          "output_type": "display_data",
          "data": {
            "text/plain": [
              "interactive(children=(IntSlider(value=5, description='range', max=10, min=1), IntSlider(value=550, description…"
            ],
            "application/vnd.jupyter.widget-view+json": {
              "version_major": 2,
              "version_minor": 0,
              "model_id": "8a7ff47a6ca844b4a8bf28e699a585dd"
            }
          },
          "metadata": {}
        }
      ]
    },
    {
      "cell_type": "code",
      "source": [
        ""
      ],
      "metadata": {
        "id": "qI275bh0Jh-0"
      },
      "execution_count": null,
      "outputs": []
    }
  ]
}