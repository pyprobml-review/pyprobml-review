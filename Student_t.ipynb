{
  "nbformat": 4,
  "nbformat_minor": 0,
  "metadata": {
    "colab": {
      "name": "Student_t.ipynb",
      "provenance": [],
      "collapsed_sections": []
    },
    "kernelspec": {
      "name": "python3",
      "display_name": "Python 3"
    },
    "language_info": {
      "name": "python"
    },
    "widgets": {
      "application/vnd.jupyter.widget-state+json": {
        "8954cdc0deb74b2bb3c8db586c79397b": {
          "model_module": "@jupyter-widgets/controls",
          "model_name": "VBoxModel",
          "model_module_version": "1.5.0",
          "state": {
            "_dom_classes": [
              "widget-interact"
            ],
            "_model_module": "@jupyter-widgets/controls",
            "_model_module_version": "1.5.0",
            "_model_name": "VBoxModel",
            "_view_count": null,
            "_view_module": "@jupyter-widgets/controls",
            "_view_module_version": "1.5.0",
            "_view_name": "VBoxView",
            "box_style": "",
            "children": [
              "IPY_MODEL_e705637bc5c14f8f875f8950155537ac",
              "IPY_MODEL_a04fb74323df461684146ee5e2786b06",
              "IPY_MODEL_b224d3694e9347318b176a8f80eb98dc"
            ],
            "layout": "IPY_MODEL_f4f584d19477438aa848c51cd6693ed9"
          }
        },
        "e705637bc5c14f8f875f8950155537ac": {
          "model_module": "@jupyter-widgets/controls",
          "model_name": "IntSliderModel",
          "model_module_version": "1.5.0",
          "state": {
            "_dom_classes": [],
            "_model_module": "@jupyter-widgets/controls",
            "_model_module_version": "1.5.0",
            "_model_name": "IntSliderModel",
            "_view_count": null,
            "_view_module": "@jupyter-widgets/controls",
            "_view_module_version": "1.5.0",
            "_view_name": "IntSliderView",
            "continuous_update": true,
            "description": "range",
            "description_tooltip": null,
            "disabled": false,
            "layout": "IPY_MODEL_dff4cf644c4844f99b3e1d469262e8ed",
            "max": 10,
            "min": 1,
            "orientation": "horizontal",
            "readout": true,
            "readout_format": "d",
            "step": 1,
            "style": "IPY_MODEL_061684a12ec6464081dd7abf58cb1c40",
            "value": 5
          }
        },
        "a04fb74323df461684146ee5e2786b06": {
          "model_module": "@jupyter-widgets/controls",
          "model_name": "IntSliderModel",
          "model_module_version": "1.5.0",
          "state": {
            "_dom_classes": [],
            "_model_module": "@jupyter-widgets/controls",
            "_model_module_version": "1.5.0",
            "_model_name": "IntSliderModel",
            "_view_count": null,
            "_view_module": "@jupyter-widgets/controls",
            "_view_module_version": "1.5.0",
            "_view_name": "IntSliderView",
            "continuous_update": true,
            "description": "number",
            "description_tooltip": null,
            "disabled": false,
            "layout": "IPY_MODEL_842457767bcb426eaeeff47140e21af2",
            "max": 1000,
            "min": 100,
            "orientation": "horizontal",
            "readout": true,
            "readout_format": "d",
            "step": 1,
            "style": "IPY_MODEL_a5ea0aa1db784e18affbf35b7e2c348d",
            "value": 550
          }
        },
        "b224d3694e9347318b176a8f80eb98dc": {
          "model_module": "@jupyter-widgets/output",
          "model_name": "OutputModel",
          "model_module_version": "1.0.0",
          "state": {
            "_dom_classes": [],
            "_model_module": "@jupyter-widgets/output",
            "_model_module_version": "1.0.0",
            "_model_name": "OutputModel",
            "_view_count": null,
            "_view_module": "@jupyter-widgets/output",
            "_view_module_version": "1.0.0",
            "_view_name": "OutputView",
            "layout": "IPY_MODEL_2e9748af6eb84f6b966d26773b6d8376",
            "msg_id": "",
            "outputs": [
              {
                "output_type": "display_data",
                "data": {
                  "text/plain": "<Figure size 432x288 with 1 Axes>",
                  "image/png": "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\n"
                },
                "metadata": {
                  "needs_background": "light"
                }
              }
            ]
          }
        },
        "f4f584d19477438aa848c51cd6693ed9": {
          "model_module": "@jupyter-widgets/base",
          "model_name": "LayoutModel",
          "model_module_version": "1.2.0",
          "state": {
            "_model_module": "@jupyter-widgets/base",
            "_model_module_version": "1.2.0",
            "_model_name": "LayoutModel",
            "_view_count": null,
            "_view_module": "@jupyter-widgets/base",
            "_view_module_version": "1.2.0",
            "_view_name": "LayoutView",
            "align_content": null,
            "align_items": null,
            "align_self": null,
            "border": null,
            "bottom": null,
            "display": null,
            "flex": null,
            "flex_flow": null,
            "grid_area": null,
            "grid_auto_columns": null,
            "grid_auto_flow": null,
            "grid_auto_rows": null,
            "grid_column": null,
            "grid_gap": null,
            "grid_row": null,
            "grid_template_areas": null,
            "grid_template_columns": null,
            "grid_template_rows": null,
            "height": null,
            "justify_content": null,
            "justify_items": null,
            "left": null,
            "margin": null,
            "max_height": null,
            "max_width": null,
            "min_height": null,
            "min_width": null,
            "object_fit": null,
            "object_position": null,
            "order": null,
            "overflow": null,
            "overflow_x": null,
            "overflow_y": null,
            "padding": null,
            "right": null,
            "top": null,
            "visibility": null,
            "width": null
          }
        },
        "dff4cf644c4844f99b3e1d469262e8ed": {
          "model_module": "@jupyter-widgets/base",
          "model_name": "LayoutModel",
          "model_module_version": "1.2.0",
          "state": {
            "_model_module": "@jupyter-widgets/base",
            "_model_module_version": "1.2.0",
            "_model_name": "LayoutModel",
            "_view_count": null,
            "_view_module": "@jupyter-widgets/base",
            "_view_module_version": "1.2.0",
            "_view_name": "LayoutView",
            "align_content": null,
            "align_items": null,
            "align_self": null,
            "border": null,
            "bottom": null,
            "display": null,
            "flex": null,
            "flex_flow": null,
            "grid_area": null,
            "grid_auto_columns": null,
            "grid_auto_flow": null,
            "grid_auto_rows": null,
            "grid_column": null,
            "grid_gap": null,
            "grid_row": null,
            "grid_template_areas": null,
            "grid_template_columns": null,
            "grid_template_rows": null,
            "height": null,
            "justify_content": null,
            "justify_items": null,
            "left": null,
            "margin": null,
            "max_height": null,
            "max_width": null,
            "min_height": null,
            "min_width": null,
            "object_fit": null,
            "object_position": null,
            "order": null,
            "overflow": null,
            "overflow_x": null,
            "overflow_y": null,
            "padding": null,
            "right": null,
            "top": null,
            "visibility": null,
            "width": null
          }
        },
        "061684a12ec6464081dd7abf58cb1c40": {
          "model_module": "@jupyter-widgets/controls",
          "model_name": "SliderStyleModel",
          "model_module_version": "1.5.0",
          "state": {
            "_model_module": "@jupyter-widgets/controls",
            "_model_module_version": "1.5.0",
            "_model_name": "SliderStyleModel",
            "_view_count": null,
            "_view_module": "@jupyter-widgets/base",
            "_view_module_version": "1.2.0",
            "_view_name": "StyleView",
            "description_width": "",
            "handle_color": null
          }
        },
        "842457767bcb426eaeeff47140e21af2": {
          "model_module": "@jupyter-widgets/base",
          "model_name": "LayoutModel",
          "model_module_version": "1.2.0",
          "state": {
            "_model_module": "@jupyter-widgets/base",
            "_model_module_version": "1.2.0",
            "_model_name": "LayoutModel",
            "_view_count": null,
            "_view_module": "@jupyter-widgets/base",
            "_view_module_version": "1.2.0",
            "_view_name": "LayoutView",
            "align_content": null,
            "align_items": null,
            "align_self": null,
            "border": null,
            "bottom": null,
            "display": null,
            "flex": null,
            "flex_flow": null,
            "grid_area": null,
            "grid_auto_columns": null,
            "grid_auto_flow": null,
            "grid_auto_rows": null,
            "grid_column": null,
            "grid_gap": null,
            "grid_row": null,
            "grid_template_areas": null,
            "grid_template_columns": null,
            "grid_template_rows": null,
            "height": null,
            "justify_content": null,
            "justify_items": null,
            "left": null,
            "margin": null,
            "max_height": null,
            "max_width": null,
            "min_height": null,
            "min_width": null,
            "object_fit": null,
            "object_position": null,
            "order": null,
            "overflow": null,
            "overflow_x": null,
            "overflow_y": null,
            "padding": null,
            "right": null,
            "top": null,
            "visibility": null,
            "width": null
          }
        },
        "a5ea0aa1db784e18affbf35b7e2c348d": {
          "model_module": "@jupyter-widgets/controls",
          "model_name": "SliderStyleModel",
          "model_module_version": "1.5.0",
          "state": {
            "_model_module": "@jupyter-widgets/controls",
            "_model_module_version": "1.5.0",
            "_model_name": "SliderStyleModel",
            "_view_count": null,
            "_view_module": "@jupyter-widgets/base",
            "_view_module_version": "1.2.0",
            "_view_name": "StyleView",
            "description_width": "",
            "handle_color": null
          }
        },
        "2e9748af6eb84f6b966d26773b6d8376": {
          "model_module": "@jupyter-widgets/base",
          "model_name": "LayoutModel",
          "model_module_version": "1.2.0",
          "state": {
            "_model_module": "@jupyter-widgets/base",
            "_model_module_version": "1.2.0",
            "_model_name": "LayoutModel",
            "_view_count": null,
            "_view_module": "@jupyter-widgets/base",
            "_view_module_version": "1.2.0",
            "_view_name": "LayoutView",
            "align_content": null,
            "align_items": null,
            "align_self": null,
            "border": null,
            "bottom": null,
            "display": null,
            "flex": null,
            "flex_flow": null,
            "grid_area": null,
            "grid_auto_columns": null,
            "grid_auto_flow": null,
            "grid_auto_rows": null,
            "grid_column": null,
            "grid_gap": null,
            "grid_row": null,
            "grid_template_areas": null,
            "grid_template_columns": null,
            "grid_template_rows": null,
            "height": null,
            "justify_content": null,
            "justify_items": null,
            "left": null,
            "margin": null,
            "max_height": null,
            "max_width": null,
            "min_height": null,
            "min_width": null,
            "object_fit": null,
            "object_position": null,
            "order": null,
            "overflow": null,
            "overflow_x": null,
            "overflow_y": null,
            "padding": null,
            "right": null,
            "top": null,
            "visibility": null,
            "width": null
          }
        },
        "fa6966fdcb384d1097ff598a56a5d4e5": {
          "model_module": "@jupyter-widgets/controls",
          "model_name": "VBoxModel",
          "model_module_version": "1.5.0",
          "state": {
            "_dom_classes": [
              "widget-interact"
            ],
            "_model_module": "@jupyter-widgets/controls",
            "_model_module_version": "1.5.0",
            "_model_name": "VBoxModel",
            "_view_count": null,
            "_view_module": "@jupyter-widgets/controls",
            "_view_module_version": "1.5.0",
            "_view_name": "VBoxView",
            "box_style": "",
            "children": [
              "IPY_MODEL_caced701dc9b41ffa87b526cdfd9601b",
              "IPY_MODEL_5bd82c6b443b4a0884a37d9d266d433e",
              "IPY_MODEL_6814a5834a6b4f5da55e5b516709d4a6"
            ],
            "layout": "IPY_MODEL_fde3289e278a4f8e8b0bb5886bf95a66"
          }
        },
        "caced701dc9b41ffa87b526cdfd9601b": {
          "model_module": "@jupyter-widgets/controls",
          "model_name": "IntSliderModel",
          "model_module_version": "1.5.0",
          "state": {
            "_dom_classes": [],
            "_model_module": "@jupyter-widgets/controls",
            "_model_module_version": "1.5.0",
            "_model_name": "IntSliderModel",
            "_view_count": null,
            "_view_module": "@jupyter-widgets/controls",
            "_view_module_version": "1.5.0",
            "_view_name": "IntSliderView",
            "continuous_update": true,
            "description": "range",
            "description_tooltip": null,
            "disabled": false,
            "layout": "IPY_MODEL_1afe404713f244f59d65c9dcf02ad7d4",
            "max": 10,
            "min": 1,
            "orientation": "horizontal",
            "readout": true,
            "readout_format": "d",
            "step": 1,
            "style": "IPY_MODEL_3b9d727630d2496682abcf5a6573504c",
            "value": 7
          }
        },
        "5bd82c6b443b4a0884a37d9d266d433e": {
          "model_module": "@jupyter-widgets/controls",
          "model_name": "IntSliderModel",
          "model_module_version": "1.5.0",
          "state": {
            "_dom_classes": [],
            "_model_module": "@jupyter-widgets/controls",
            "_model_module_version": "1.5.0",
            "_model_name": "IntSliderModel",
            "_view_count": null,
            "_view_module": "@jupyter-widgets/controls",
            "_view_module_version": "1.5.0",
            "_view_name": "IntSliderView",
            "continuous_update": true,
            "description": "number",
            "description_tooltip": null,
            "disabled": false,
            "layout": "IPY_MODEL_43d870ab419a427eb0f26adc27e9aad8",
            "max": 1000,
            "min": 100,
            "orientation": "horizontal",
            "readout": true,
            "readout_format": "d",
            "step": 1,
            "style": "IPY_MODEL_892302b1582c4e018186aa18f0bebbfe",
            "value": 550
          }
        },
        "6814a5834a6b4f5da55e5b516709d4a6": {
          "model_module": "@jupyter-widgets/output",
          "model_name": "OutputModel",
          "model_module_version": "1.0.0",
          "state": {
            "_dom_classes": [],
            "_model_module": "@jupyter-widgets/output",
            "_model_module_version": "1.0.0",
            "_model_name": "OutputModel",
            "_view_count": null,
            "_view_module": "@jupyter-widgets/output",
            "_view_module_version": "1.0.0",
            "_view_name": "OutputView",
            "layout": "IPY_MODEL_398a0b9695ea48e19ba368dd92055265",
            "msg_id": "",
            "outputs": [
              {
                "output_type": "display_data",
                "data": {
                  "text/plain": "<Figure size 432x288 with 1 Axes>",
                  "image/png": "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\n"
                },
                "metadata": {
                  "needs_background": "light"
                }
              }
            ]
          }
        },
        "fde3289e278a4f8e8b0bb5886bf95a66": {
          "model_module": "@jupyter-widgets/base",
          "model_name": "LayoutModel",
          "model_module_version": "1.2.0",
          "state": {
            "_model_module": "@jupyter-widgets/base",
            "_model_module_version": "1.2.0",
            "_model_name": "LayoutModel",
            "_view_count": null,
            "_view_module": "@jupyter-widgets/base",
            "_view_module_version": "1.2.0",
            "_view_name": "LayoutView",
            "align_content": null,
            "align_items": null,
            "align_self": null,
            "border": null,
            "bottom": null,
            "display": null,
            "flex": null,
            "flex_flow": null,
            "grid_area": null,
            "grid_auto_columns": null,
            "grid_auto_flow": null,
            "grid_auto_rows": null,
            "grid_column": null,
            "grid_gap": null,
            "grid_row": null,
            "grid_template_areas": null,
            "grid_template_columns": null,
            "grid_template_rows": null,
            "height": null,
            "justify_content": null,
            "justify_items": null,
            "left": null,
            "margin": null,
            "max_height": null,
            "max_width": null,
            "min_height": null,
            "min_width": null,
            "object_fit": null,
            "object_position": null,
            "order": null,
            "overflow": null,
            "overflow_x": null,
            "overflow_y": null,
            "padding": null,
            "right": null,
            "top": null,
            "visibility": null,
            "width": null
          }
        },
        "1afe404713f244f59d65c9dcf02ad7d4": {
          "model_module": "@jupyter-widgets/base",
          "model_name": "LayoutModel",
          "model_module_version": "1.2.0",
          "state": {
            "_model_module": "@jupyter-widgets/base",
            "_model_module_version": "1.2.0",
            "_model_name": "LayoutModel",
            "_view_count": null,
            "_view_module": "@jupyter-widgets/base",
            "_view_module_version": "1.2.0",
            "_view_name": "LayoutView",
            "align_content": null,
            "align_items": null,
            "align_self": null,
            "border": null,
            "bottom": null,
            "display": null,
            "flex": null,
            "flex_flow": null,
            "grid_area": null,
            "grid_auto_columns": null,
            "grid_auto_flow": null,
            "grid_auto_rows": null,
            "grid_column": null,
            "grid_gap": null,
            "grid_row": null,
            "grid_template_areas": null,
            "grid_template_columns": null,
            "grid_template_rows": null,
            "height": null,
            "justify_content": null,
            "justify_items": null,
            "left": null,
            "margin": null,
            "max_height": null,
            "max_width": null,
            "min_height": null,
            "min_width": null,
            "object_fit": null,
            "object_position": null,
            "order": null,
            "overflow": null,
            "overflow_x": null,
            "overflow_y": null,
            "padding": null,
            "right": null,
            "top": null,
            "visibility": null,
            "width": null
          }
        },
        "3b9d727630d2496682abcf5a6573504c": {
          "model_module": "@jupyter-widgets/controls",
          "model_name": "SliderStyleModel",
          "model_module_version": "1.5.0",
          "state": {
            "_model_module": "@jupyter-widgets/controls",
            "_model_module_version": "1.5.0",
            "_model_name": "SliderStyleModel",
            "_view_count": null,
            "_view_module": "@jupyter-widgets/base",
            "_view_module_version": "1.2.0",
            "_view_name": "StyleView",
            "description_width": "",
            "handle_color": null
          }
        },
        "43d870ab419a427eb0f26adc27e9aad8": {
          "model_module": "@jupyter-widgets/base",
          "model_name": "LayoutModel",
          "model_module_version": "1.2.0",
          "state": {
            "_model_module": "@jupyter-widgets/base",
            "_model_module_version": "1.2.0",
            "_model_name": "LayoutModel",
            "_view_count": null,
            "_view_module": "@jupyter-widgets/base",
            "_view_module_version": "1.2.0",
            "_view_name": "LayoutView",
            "align_content": null,
            "align_items": null,
            "align_self": null,
            "border": null,
            "bottom": null,
            "display": null,
            "flex": null,
            "flex_flow": null,
            "grid_area": null,
            "grid_auto_columns": null,
            "grid_auto_flow": null,
            "grid_auto_rows": null,
            "grid_column": null,
            "grid_gap": null,
            "grid_row": null,
            "grid_template_areas": null,
            "grid_template_columns": null,
            "grid_template_rows": null,
            "height": null,
            "justify_content": null,
            "justify_items": null,
            "left": null,
            "margin": null,
            "max_height": null,
            "max_width": null,
            "min_height": null,
            "min_width": null,
            "object_fit": null,
            "object_position": null,
            "order": null,
            "overflow": null,
            "overflow_x": null,
            "overflow_y": null,
            "padding": null,
            "right": null,
            "top": null,
            "visibility": null,
            "width": null
          }
        },
        "892302b1582c4e018186aa18f0bebbfe": {
          "model_module": "@jupyter-widgets/controls",
          "model_name": "SliderStyleModel",
          "model_module_version": "1.5.0",
          "state": {
            "_model_module": "@jupyter-widgets/controls",
            "_model_module_version": "1.5.0",
            "_model_name": "SliderStyleModel",
            "_view_count": null,
            "_view_module": "@jupyter-widgets/base",
            "_view_module_version": "1.2.0",
            "_view_name": "StyleView",
            "description_width": "",
            "handle_color": null
          }
        },
        "398a0b9695ea48e19ba368dd92055265": {
          "model_module": "@jupyter-widgets/base",
          "model_name": "LayoutModel",
          "model_module_version": "1.2.0",
          "state": {
            "_model_module": "@jupyter-widgets/base",
            "_model_module_version": "1.2.0",
            "_model_name": "LayoutModel",
            "_view_count": null,
            "_view_module": "@jupyter-widgets/base",
            "_view_module_version": "1.2.0",
            "_view_name": "LayoutView",
            "align_content": null,
            "align_items": null,
            "align_self": null,
            "border": null,
            "bottom": null,
            "display": null,
            "flex": null,
            "flex_flow": null,
            "grid_area": null,
            "grid_auto_columns": null,
            "grid_auto_flow": null,
            "grid_auto_rows": null,
            "grid_column": null,
            "grid_gap": null,
            "grid_row": null,
            "grid_template_areas": null,
            "grid_template_columns": null,
            "grid_template_rows": null,
            "height": null,
            "justify_content": null,
            "justify_items": null,
            "left": null,
            "margin": null,
            "max_height": null,
            "max_width": null,
            "min_height": null,
            "min_width": null,
            "object_fit": null,
            "object_position": null,
            "order": null,
            "overflow": null,
            "overflow_x": null,
            "overflow_y": null,
            "padding": null,
            "right": null,
            "top": null,
            "visibility": null,
            "width": null
          }
        }
      }
    }
  },
  "cells": [
    {
      "cell_type": "code",
      "execution_count": 1,
      "metadata": {
        "id": "M97CkaP22vd_",
        "colab": {
          "base_uri": "https://localhost:8080/"
        },
        "outputId": "cb6005a5-9c79-47b0-a8b5-41dd31725b81"
      },
      "outputs": [
        {
          "output_type": "stream",
          "name": "stdout",
          "text": [
            "Collecting git+https://github.com/probml/probml-utils.git\n",
            "  Cloning https://github.com/probml/probml-utils.git to /tmp/pip-req-build-kedwq03x\n",
            "  Running command git clone -q https://github.com/probml/probml-utils.git /tmp/pip-req-build-kedwq03x\n",
            "  Installing build dependencies ... \u001b[?25l\u001b[?25hdone\n",
            "  Getting requirements to build wheel ... \u001b[?25l\u001b[?25hdone\n",
            "    Preparing wheel metadata ... \u001b[?25l\u001b[?25hdone\n",
            "Requirement already satisfied: jax in /usr/local/lib/python3.7/dist-packages (from probml-utils==0.1.dev45+g2da039c) (0.3.4)\n",
            "Requirement already satisfied: jaxlib in /usr/local/lib/python3.7/dist-packages (from probml-utils==0.1.dev45+g2da039c) (0.3.2+cuda11.cudnn805)\n",
            "Requirement already satisfied: scikit-learn in /usr/local/lib/python3.7/dist-packages (from probml-utils==0.1.dev45+g2da039c) (1.0.2)\n",
            "Requirement already satisfied: scipy in /usr/local/lib/python3.7/dist-packages (from probml-utils==0.1.dev45+g2da039c) (1.4.1)\n",
            "Requirement already satisfied: jupyter in /usr/local/lib/python3.7/dist-packages (from probml-utils==0.1.dev45+g2da039c) (1.0.0)\n",
            "Requirement already satisfied: matplotlib in /usr/local/lib/python3.7/dist-packages (from probml-utils==0.1.dev45+g2da039c) (3.2.2)\n",
            "Requirement already satisfied: numpy in /usr/local/lib/python3.7/dist-packages (from probml-utils==0.1.dev45+g2da039c) (1.21.6)\n",
            "Requirement already satisfied: graphviz in /usr/local/lib/python3.7/dist-packages (from probml-utils==0.1.dev45+g2da039c) (0.10.1)\n",
            "Collecting distrax\n",
            "  Downloading distrax-0.1.2-py3-none-any.whl (272 kB)\n",
            "\u001b[K     |████████████████████████████████| 272 kB 4.4 MB/s \n",
            "\u001b[?25hCollecting chex>=0.0.7\n",
            "  Downloading chex-0.1.3-py3-none-any.whl (72 kB)\n",
            "\u001b[K     |████████████████████████████████| 72 kB 601 kB/s \n",
            "\u001b[?25hRequirement already satisfied: absl-py>=0.9.0 in /usr/local/lib/python3.7/dist-packages (from distrax->probml-utils==0.1.dev45+g2da039c) (1.0.0)\n",
            "Requirement already satisfied: tensorflow-probability>=0.15.0 in /usr/local/lib/python3.7/dist-packages (from distrax->probml-utils==0.1.dev45+g2da039c) (0.16.0)\n",
            "Requirement already satisfied: six in /usr/local/lib/python3.7/dist-packages (from absl-py>=0.9.0->distrax->probml-utils==0.1.dev45+g2da039c) (1.15.0)\n",
            "Requirement already satisfied: toolz>=0.9.0 in /usr/local/lib/python3.7/dist-packages (from chex>=0.0.7->distrax->probml-utils==0.1.dev45+g2da039c) (0.11.2)\n",
            "Requirement already satisfied: dm-tree>=0.1.5 in /usr/local/lib/python3.7/dist-packages (from chex>=0.0.7->distrax->probml-utils==0.1.dev45+g2da039c) (0.1.7)\n",
            "Requirement already satisfied: typing-extensions in /usr/local/lib/python3.7/dist-packages (from jax->probml-utils==0.1.dev45+g2da039c) (4.2.0)\n",
            "Requirement already satisfied: opt-einsum in /usr/local/lib/python3.7/dist-packages (from jax->probml-utils==0.1.dev45+g2da039c) (3.3.0)\n",
            "Requirement already satisfied: flatbuffers<3.0,>=1.12 in /usr/local/lib/python3.7/dist-packages (from jaxlib->probml-utils==0.1.dev45+g2da039c) (2.0)\n",
            "Requirement already satisfied: cloudpickle>=1.3 in /usr/local/lib/python3.7/dist-packages (from tensorflow-probability>=0.15.0->distrax->probml-utils==0.1.dev45+g2da039c) (1.3.0)\n",
            "Requirement already satisfied: gast>=0.3.2 in /usr/local/lib/python3.7/dist-packages (from tensorflow-probability>=0.15.0->distrax->probml-utils==0.1.dev45+g2da039c) (0.5.3)\n",
            "Requirement already satisfied: decorator in /usr/local/lib/python3.7/dist-packages (from tensorflow-probability>=0.15.0->distrax->probml-utils==0.1.dev45+g2da039c) (4.4.2)\n",
            "Requirement already satisfied: nbconvert in /usr/local/lib/python3.7/dist-packages (from jupyter->probml-utils==0.1.dev45+g2da039c) (5.6.1)\n",
            "Requirement already satisfied: jupyter-console in /usr/local/lib/python3.7/dist-packages (from jupyter->probml-utils==0.1.dev45+g2da039c) (5.2.0)\n",
            "Requirement already satisfied: ipywidgets in /usr/local/lib/python3.7/dist-packages (from jupyter->probml-utils==0.1.dev45+g2da039c) (7.7.0)\n",
            "Requirement already satisfied: notebook in /usr/local/lib/python3.7/dist-packages (from jupyter->probml-utils==0.1.dev45+g2da039c) (5.3.1)\n",
            "Requirement already satisfied: qtconsole in /usr/local/lib/python3.7/dist-packages (from jupyter->probml-utils==0.1.dev45+g2da039c) (5.3.0)\n",
            "Requirement already satisfied: ipykernel in /usr/local/lib/python3.7/dist-packages (from jupyter->probml-utils==0.1.dev45+g2da039c) (4.10.1)\n",
            "Requirement already satisfied: tornado>=4.0 in /usr/local/lib/python3.7/dist-packages (from ipykernel->jupyter->probml-utils==0.1.dev45+g2da039c) (5.1.1)\n",
            "Requirement already satisfied: traitlets>=4.1.0 in /usr/local/lib/python3.7/dist-packages (from ipykernel->jupyter->probml-utils==0.1.dev45+g2da039c) (5.1.1)\n",
            "Requirement already satisfied: ipython>=4.0.0 in /usr/local/lib/python3.7/dist-packages (from ipykernel->jupyter->probml-utils==0.1.dev45+g2da039c) (5.5.0)\n",
            "Requirement already satisfied: jupyter-client in /usr/local/lib/python3.7/dist-packages (from ipykernel->jupyter->probml-utils==0.1.dev45+g2da039c) (5.3.5)\n",
            "Requirement already satisfied: prompt-toolkit<2.0.0,>=1.0.4 in /usr/local/lib/python3.7/dist-packages (from ipython>=4.0.0->ipykernel->jupyter->probml-utils==0.1.dev45+g2da039c) (1.0.18)\n",
            "Requirement already satisfied: pygments in /usr/local/lib/python3.7/dist-packages (from ipython>=4.0.0->ipykernel->jupyter->probml-utils==0.1.dev45+g2da039c) (2.6.1)\n",
            "Requirement already satisfied: setuptools>=18.5 in /usr/local/lib/python3.7/dist-packages (from ipython>=4.0.0->ipykernel->jupyter->probml-utils==0.1.dev45+g2da039c) (57.4.0)\n",
            "Requirement already satisfied: pickleshare in /usr/local/lib/python3.7/dist-packages (from ipython>=4.0.0->ipykernel->jupyter->probml-utils==0.1.dev45+g2da039c) (0.7.5)\n",
            "Requirement already satisfied: pexpect in /usr/local/lib/python3.7/dist-packages (from ipython>=4.0.0->ipykernel->jupyter->probml-utils==0.1.dev45+g2da039c) (4.8.0)\n",
            "Requirement already satisfied: simplegeneric>0.8 in /usr/local/lib/python3.7/dist-packages (from ipython>=4.0.0->ipykernel->jupyter->probml-utils==0.1.dev45+g2da039c) (0.8.1)\n",
            "Requirement already satisfied: wcwidth in /usr/local/lib/python3.7/dist-packages (from prompt-toolkit<2.0.0,>=1.0.4->ipython>=4.0.0->ipykernel->jupyter->probml-utils==0.1.dev45+g2da039c) (0.2.5)\n",
            "Requirement already satisfied: jupyterlab-widgets>=1.0.0 in /usr/local/lib/python3.7/dist-packages (from ipywidgets->jupyter->probml-utils==0.1.dev45+g2da039c) (1.1.0)\n",
            "Requirement already satisfied: ipython-genutils~=0.2.0 in /usr/local/lib/python3.7/dist-packages (from ipywidgets->jupyter->probml-utils==0.1.dev45+g2da039c) (0.2.0)\n",
            "Requirement already satisfied: nbformat>=4.2.0 in /usr/local/lib/python3.7/dist-packages (from ipywidgets->jupyter->probml-utils==0.1.dev45+g2da039c) (5.3.0)\n",
            "Requirement already satisfied: widgetsnbextension~=3.6.0 in /usr/local/lib/python3.7/dist-packages (from ipywidgets->jupyter->probml-utils==0.1.dev45+g2da039c) (3.6.0)\n",
            "Requirement already satisfied: jupyter-core in /usr/local/lib/python3.7/dist-packages (from nbformat>=4.2.0->ipywidgets->jupyter->probml-utils==0.1.dev45+g2da039c) (4.10.0)\n",
            "Requirement already satisfied: jsonschema>=2.6 in /usr/local/lib/python3.7/dist-packages (from nbformat>=4.2.0->ipywidgets->jupyter->probml-utils==0.1.dev45+g2da039c) (4.3.3)\n",
            "Requirement already satisfied: fastjsonschema in /usr/local/lib/python3.7/dist-packages (from nbformat>=4.2.0->ipywidgets->jupyter->probml-utils==0.1.dev45+g2da039c) (2.15.3)\n",
            "Requirement already satisfied: pyrsistent!=0.17.0,!=0.17.1,!=0.17.2,>=0.14.0 in /usr/local/lib/python3.7/dist-packages (from jsonschema>=2.6->nbformat>=4.2.0->ipywidgets->jupyter->probml-utils==0.1.dev45+g2da039c) (0.18.1)\n",
            "Requirement already satisfied: attrs>=17.4.0 in /usr/local/lib/python3.7/dist-packages (from jsonschema>=2.6->nbformat>=4.2.0->ipywidgets->jupyter->probml-utils==0.1.dev45+g2da039c) (21.4.0)\n",
            "Requirement already satisfied: importlib-metadata in /usr/local/lib/python3.7/dist-packages (from jsonschema>=2.6->nbformat>=4.2.0->ipywidgets->jupyter->probml-utils==0.1.dev45+g2da039c) (4.11.3)\n",
            "Requirement already satisfied: importlib-resources>=1.4.0 in /usr/local/lib/python3.7/dist-packages (from jsonschema>=2.6->nbformat>=4.2.0->ipywidgets->jupyter->probml-utils==0.1.dev45+g2da039c) (5.7.1)\n",
            "Requirement already satisfied: zipp>=3.1.0 in /usr/local/lib/python3.7/dist-packages (from importlib-resources>=1.4.0->jsonschema>=2.6->nbformat>=4.2.0->ipywidgets->jupyter->probml-utils==0.1.dev45+g2da039c) (3.8.0)\n",
            "Requirement already satisfied: Send2Trash in /usr/local/lib/python3.7/dist-packages (from notebook->jupyter->probml-utils==0.1.dev45+g2da039c) (1.8.0)\n",
            "Requirement already satisfied: jinja2 in /usr/local/lib/python3.7/dist-packages (from notebook->jupyter->probml-utils==0.1.dev45+g2da039c) (2.11.3)\n",
            "Requirement already satisfied: terminado>=0.8.1 in /usr/local/lib/python3.7/dist-packages (from notebook->jupyter->probml-utils==0.1.dev45+g2da039c) (0.13.3)\n",
            "Requirement already satisfied: python-dateutil>=2.1 in /usr/local/lib/python3.7/dist-packages (from jupyter-client->ipykernel->jupyter->probml-utils==0.1.dev45+g2da039c) (2.8.2)\n",
            "Requirement already satisfied: pyzmq>=13 in /usr/local/lib/python3.7/dist-packages (from jupyter-client->ipykernel->jupyter->probml-utils==0.1.dev45+g2da039c) (22.3.0)\n",
            "Requirement already satisfied: ptyprocess in /usr/local/lib/python3.7/dist-packages (from terminado>=0.8.1->notebook->jupyter->probml-utils==0.1.dev45+g2da039c) (0.7.0)\n",
            "Requirement already satisfied: MarkupSafe>=0.23 in /usr/local/lib/python3.7/dist-packages (from jinja2->notebook->jupyter->probml-utils==0.1.dev45+g2da039c) (2.0.1)\n",
            "Requirement already satisfied: cycler>=0.10 in /usr/local/lib/python3.7/dist-packages (from matplotlib->probml-utils==0.1.dev45+g2da039c) (0.11.0)\n",
            "Requirement already satisfied: pyparsing!=2.0.4,!=2.1.2,!=2.1.6,>=2.0.1 in /usr/local/lib/python3.7/dist-packages (from matplotlib->probml-utils==0.1.dev45+g2da039c) (3.0.8)\n",
            "Requirement already satisfied: kiwisolver>=1.0.1 in /usr/local/lib/python3.7/dist-packages (from matplotlib->probml-utils==0.1.dev45+g2da039c) (1.4.2)\n",
            "Requirement already satisfied: defusedxml in /usr/local/lib/python3.7/dist-packages (from nbconvert->jupyter->probml-utils==0.1.dev45+g2da039c) (0.7.1)\n",
            "Requirement already satisfied: mistune<2,>=0.8.1 in /usr/local/lib/python3.7/dist-packages (from nbconvert->jupyter->probml-utils==0.1.dev45+g2da039c) (0.8.4)\n",
            "Requirement already satisfied: pandocfilters>=1.4.1 in /usr/local/lib/python3.7/dist-packages (from nbconvert->jupyter->probml-utils==0.1.dev45+g2da039c) (1.5.0)\n",
            "Requirement already satisfied: testpath in /usr/local/lib/python3.7/dist-packages (from nbconvert->jupyter->probml-utils==0.1.dev45+g2da039c) (0.6.0)\n",
            "Requirement already satisfied: bleach in /usr/local/lib/python3.7/dist-packages (from nbconvert->jupyter->probml-utils==0.1.dev45+g2da039c) (5.0.0)\n",
            "Requirement already satisfied: entrypoints>=0.2.2 in /usr/local/lib/python3.7/dist-packages (from nbconvert->jupyter->probml-utils==0.1.dev45+g2da039c) (0.4)\n",
            "Requirement already satisfied: webencodings in /usr/local/lib/python3.7/dist-packages (from bleach->nbconvert->jupyter->probml-utils==0.1.dev45+g2da039c) (0.5.1)\n",
            "Requirement already satisfied: qtpy>=2.0.1 in /usr/local/lib/python3.7/dist-packages (from qtconsole->jupyter->probml-utils==0.1.dev45+g2da039c) (2.0.1)\n",
            "Requirement already satisfied: packaging in /usr/local/lib/python3.7/dist-packages (from qtpy>=2.0.1->qtconsole->jupyter->probml-utils==0.1.dev45+g2da039c) (21.3)\n",
            "Requirement already satisfied: threadpoolctl>=2.0.0 in /usr/local/lib/python3.7/dist-packages (from scikit-learn->probml-utils==0.1.dev45+g2da039c) (3.1.0)\n",
            "Requirement already satisfied: joblib>=0.11 in /usr/local/lib/python3.7/dist-packages (from scikit-learn->probml-utils==0.1.dev45+g2da039c) (1.1.0)\n",
            "Building wheels for collected packages: probml-utils\n",
            "  Building wheel for probml-utils (PEP 517) ... \u001b[?25l\u001b[?25hdone\n",
            "  Created wheel for probml-utils: filename=probml_utils-0.1.dev45+g2da039c-py3-none-any.whl size=30608 sha256=71d5c8c23b8b8a61031bb2df86d7647f0d782c8c6e7f4b7c584dfdb90820080a\n",
            "  Stored in directory: /tmp/pip-ephem-wheel-cache-wc_b0abp/wheels/37/8f/cb/b845cd5de3d7f648717815f9c27bec49975bf58637a97fa6be\n",
            "Successfully built probml-utils\n",
            "Installing collected packages: chex, distrax, probml-utils\n",
            "Successfully installed chex-0.1.3 distrax-0.1.2 probml-utils-0.1.dev45+g2da039c\n"
          ]
        }
      ],
      "source": [
        "import jax\n",
        "import jax.numpy as jnp\n",
        "import matplotlib.pyplot as plt\n",
        "import seaborn as sns\n",
        "from scipy.stats import t, laplace, norm\n",
        "\n",
        "try:\n",
        "    from probml_utils import savefig, latexify\n",
        "except:\n",
        "    %pip install git+https://github.com/probml/probml-utils.git\n",
        "    from probml_utils import savefig, latexify"
      ]
    },
    {
      "cell_type": "code",
      "source": [
        "latexify(width_scale_factor=2)"
      ],
      "metadata": {
        "colab": {
          "base_uri": "https://localhost:8080/"
        },
        "id": "cbXcVYR425R0",
        "outputId": "e951b081-0726-49ef-e010-53c0cfdb6772"
      },
      "execution_count": 2,
      "outputs": [
        {
          "output_type": "stream",
          "name": "stderr",
          "text": [
            "/usr/local/lib/python3.7/dist-packages/probml_utils/plotting.py:26: UserWarning: LATEXIFY environment variable not set, not latexifying\n",
            "  warnings.warn(\"LATEXIFY environment variable not set, not latexifying\")\n"
          ]
        }
      ]
    },
    {
      "cell_type": "code",
      "source": [
        "def studentt(range, number, save_name, fig=None, ax=None):\n",
        "  x = jnp.linspace(-range, range, number)\n",
        "  n = norm.pdf(x, loc=0, scale=1)\n",
        "  l = laplace.pdf(x, loc=0, scale=1 / (2 ** 0.5))\n",
        "  t1 = t.pdf(x, df=1, loc=0, scale=1)\n",
        "\n",
        "  if fig is None:\n",
        "        fig, ax = plt.subplots()\n",
        "\n",
        "  ax.plot(x, n, 'k:')\n",
        "  ax.plot(x, t1, 'b--')\n",
        "  ax.plot(x, l, 'r--')\n",
        "  ax.set_xlabel(\"$x$\")\n",
        "  ax.set_ylabel(\"$PDF$\")\n",
        "  ax.legend(('Gaussian Distribution', 'Student-t Distribution', 'Laplacian Distribution'))\n",
        "\n",
        "  sns.despine()\n",
        "  if len(save_name) > 0:\n",
        "      savefig(save_name)\n",
        "  return fig, ax\n",
        "\n",
        "_, _ = studentt(4, 100, \"uniform_histogram_latexified\")\n"
      ],
      "metadata": {
        "colab": {
          "base_uri": "https://localhost:8080/",
          "height": 335
        },
        "id": "R482vBGC3MGn",
        "outputId": "0fd2df3d-bd6c-4b77-f16e-7f8422c67d86"
      },
      "execution_count": 3,
      "outputs": [
        {
          "output_type": "stream",
          "name": "stderr",
          "text": [
            "WARNING:absl:No GPU/TPU found, falling back to CPU. (Set TF_CPP_MIN_LOG_LEVEL=0 and rerun for more info.)\n",
            "/usr/local/lib/python3.7/dist-packages/probml_utils/plotting.py:79: UserWarning: set FIG_DIR environment variable to save figures\n",
            "  warnings.warn(\"set FIG_DIR environment variable to save figures\")\n"
          ]
        },
        {
          "output_type": "display_data",
          "data": {
            "text/plain": [
              "<Figure size 432x288 with 1 Axes>"
            ],
            "image/png": "[encoded data removed]"
          },
          "metadata": {
            "needs_background": "light"
          }
        }
      ]
    },
    {
      "cell_type": "code",
      "source": [
        "from ipywidgets import interact\n",
        "@interact(range=(1, 10), number=(100, 1000))\n",
        "def interactive_studentt(range, number):\n",
        "  fig, ax = studentt(range, number, \"\")"
      ],
      "metadata": {
        "colab": {
          "base_uri": "https://localhost:8080/",
          "height": 343,
          "referenced_widgets": [
            "8954cdc0deb74b2bb3c8db586c79397b",
            "e705637bc5c14f8f875f8950155537ac",
            "a04fb74323df461684146ee5e2786b06",
            "b224d3694e9347318b176a8f80eb98dc",
            "f4f584d19477438aa848c51cd6693ed9",
            "dff4cf644c4844f99b3e1d469262e8ed",
            "061684a12ec6464081dd7abf58cb1c40",
            "842457767bcb426eaeeff47140e21af2",
            "a5ea0aa1db784e18affbf35b7e2c348d",
            "2e9748af6eb84f6b966d26773b6d8376"
          ]
        },
        "id": "6tPptulokf_F",
        "outputId": "1700a3ff-2982-40f7-cc38-cbb832d2b75a"
      },
      "execution_count": 4,
      "outputs": [
        {
          "output_type": "display_data",
          "data": {
            "text/plain": [
              "interactive(children=(IntSlider(value=5, description='range', max=10, min=1), IntSlider(value=550, description…"
            ],
            "application/vnd.jupyter.widget-view+json": {
              "version_major": 2,
              "version_minor": 0,
              "model_id": "8954cdc0deb74b2bb3c8db586c79397b"
            }
          },
          "metadata": {}
        }
      ]
    },
    {
      "cell_type": "code",
      "source": [
        "def studenttlog(range, number, save_name, fig=None, ax=None):\n",
        "  x = jnp.linspace(-range, range, number)\n",
        "  n = norm.pdf(x, loc=0, scale=1)\n",
        "  l = laplace.pdf(x, loc=0, scale=1 / (2 ** 0.5))\n",
        "  t1 = t.pdf(x, df=1, loc=0, scale=1)\n",
        "\n",
        "  if fig is None:\n",
        "        fig, ax = plt.subplots()\n",
        "\n",
        "  ax.plot(x, jnp.log(n), 'k:')\n",
        "  ax.plot(x, jnp.log(t1), 'b--')\n",
        "  ax.plot(x, jnp.log(l), 'r--')\n",
        "  ax.set_xlabel(\"$x$\")\n",
        "  ax.set_ylabel(\"$log(PDF)$\")\n",
        "  ax.legend(('Gaussian Distribution', 'Student-t Distribution', 'Laplacian Distribution'))\n",
        "\n",
        "  sns.despine()\n",
        "  if len(save_name) > 0:\n",
        "      savefig(save_name)\n",
        "  return fig, ax\n",
        "\n",
        "_, _ = studenttlog(4, 100, \"uniform_histogram_latexified\")\n"
      ],
      "metadata": {
        "id": "CMmZManMuktI",
        "colab": {
          "base_uri": "https://localhost:8080/",
          "height": 318
        },
        "outputId": "25bce31e-0a3a-4a5d-d939-c277cca5d1b1"
      },
      "execution_count": 6,
      "outputs": [
        {
          "output_type": "stream",
          "name": "stderr",
          "text": [
            "/usr/local/lib/python3.7/dist-packages/probml_utils/plotting.py:79: UserWarning: set FIG_DIR environment variable to save figures\n",
            "  warnings.warn(\"set FIG_DIR environment variable to save figures\")\n"
          ]
        },
        {
          "output_type": "display_data",
          "data": {
            "text/plain": [
              "<Figure size 432x288 with 1 Axes>"
            ],
            "image/png": "[encoded data removed]"
          },
          "metadata": {
            "needs_background": "light"
          }
        }
      ]
    },
    {
      "cell_type": "code",
      "source": [
        "from ipywidgets import interact\n",
        "@interact(range=(1, 10), number=(100, 1000))\n",
        "def interactive_studentt(range, number):\n",
        "  fig, ax = studenttlog(range, number, \"\")"
      ],
      "metadata": {
        "colab": {
          "base_uri": "https://localhost:8080/",
          "height": 343,
          "referenced_widgets": [
            "fa6966fdcb384d1097ff598a56a5d4e5",
            "caced701dc9b41ffa87b526cdfd9601b",
            "5bd82c6b443b4a0884a37d9d266d433e",
            "6814a5834a6b4f5da55e5b516709d4a6",
            "fde3289e278a4f8e8b0bb5886bf95a66",
            "1afe404713f244f59d65c9dcf02ad7d4",
            "3b9d727630d2496682abcf5a6573504c",
            "43d870ab419a427eb0f26adc27e9aad8",
            "892302b1582c4e018186aa18f0bebbfe",
            "398a0b9695ea48e19ba368dd92055265"
          ]
        },
        "id": "Yse4dAuxJHAD",
        "outputId": "92f00ee0-bcee-4337-d765-43231ab64874"
      },
      "execution_count": 7,
      "outputs": [
        {
          "output_type": "display_data",
          "data": {
            "text/plain": [
              "interactive(children=(IntSlider(value=5, description='range', max=10, min=1), IntSlider(value=550, description…"
            ],
            "application/vnd.jupyter.widget-view+json": {
              "version_major": 2,
              "version_minor": 0,
              "model_id": "fa6966fdcb384d1097ff598a56a5d4e5"
            }
          },
          "metadata": {}
        }
      ]
    },
    {
      "cell_type": "code",
      "source": [
        ""
      ],
      "metadata": {
        "id": "qI275bh0Jh-0"
      },
      "execution_count": null,
      "outputs": []
    }
  ]
}