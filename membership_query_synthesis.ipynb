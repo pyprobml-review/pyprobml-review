{
 "nbformat": 4,
 "nbformat_minor": 0,
 "metadata": {
  "colab": {
   "name": "membership_query_synthesis.ipynb",
   "provenance": []
  },
  "kernelspec": {
   "name": "python3",
   "display_name": "Python 3"
  },
  "language_info": {
   "name": "python"
  }
 },
 "cells": [
  {
   "cell_type": "code",
   "execution_count": null,
   "metadata": {
    "id": "jj7rQqdgi7ea"
   },
   "outputs": [],
   "source": [
    "# Import libraries\n",
    "\n",
    "import matplotlib.pyplot as plt\n",
    "import tensorflow as tf\n",
    "import numpy as np\n",
    "import seaborn as sns\n",
    "\n",
    "sns.set()\n",
    "from sklearn import mixture\n",
    "from keras.datasets import mnist\n",
    "from sklearn.model_selection import train_test_split\n",
    "from sklearn.decomposition import PCA\n",
    "from probml_utils import savefig, latexify\n",
    "\n",
    "np.random.seed(0)"
   ]
  },
  {
   "cell_type": "code",
   "source": [
    "latexify(fig_width=3, fig_height=2)"
   ],
   "metadata": {
    "id": "o_ycGg0sjGoE"
   },
   "execution_count": null,
   "outputs": []
  },
  {
   "cell_type": "code",
   "source": [
    "(x_train, y_train), (x_test, y_test) = mnist.load_data()  # Loading the mnist dataset"
   ],
   "metadata": {
    "id": "bSivQF_6jJeP"
   },
   "execution_count": null,
   "outputs": []
  },
  {
   "cell_type": "code",
   "source": [
    "X_train, X_test, Y_train, Y_test = train_test_split(\n",
    "    x_train, y_train, test_size=0.97, stratify=y_train\n",
    ")  # Splitting the data into train and test sets\n",
    "print(X_train.shape)"
   ],
   "metadata": {
    "id": "gp1vlnibjLfS"
   },
   "execution_count": null,
   "outputs": []
  },
  {
   "cell_type": "code",
   "source": [
    "# Function to plot 100 digits\n",
    "\n",
    "\n",
    "def plot_digits(data):\n",
    "    fig, ax = plt.subplots(10, 10, subplot_kw=dict(xticks=[], yticks=[]))\n",
    "    fig.subplots_adjust(hspace=0.05, wspace=0.05)\n",
    "    for i, axi in enumerate(ax.flat):\n",
    "        im = axi.imshow(data[i].reshape(28, 28), cmap=\"binary\")\n",
    "        im.set_clim(0, 16)\n",
    "\n",
    "\n",
    "plot_digits(X_train)"
   ],
   "metadata": {
    "id": "1cOEkutCjNSD"
   },
   "execution_count": null,
   "outputs": []
  },
  {
   "cell_type": "code",
   "source": [
    "pca = PCA(0.87, whiten=True)  # Preserving 87% of information using PCA\n",
    "data = pca.fit_transform(X_train.reshape(-1, 28 * 28))\n",
    "data.shape"
   ],
   "metadata": {
    "id": "ENWSIRUXjS0u"
   },
   "execution_count": null,
   "outputs": []
  },
  {
   "cell_type": "code",
   "source": [
    "# Using AIC to find the optimum number of components needed for GMM Model\n",
    "n_components = np.arange(50, 210, 10)\n",
    "models = [mixture.GaussianMixture(n, covariance_type=\"full\", random_state=0) for n in n_components]\n",
    "aics = [model.fit(data).aic(data) for model in models]\n",
    "plt.plot(n_components, aics);"
   ],
   "metadata": {
    "id": "ivU92iWrjaAv"
   },
   "execution_count": null,
   "outputs": []
  },
  {
   "cell_type": "code",
   "source": [
    "# Fitting the GMM on transformed data\n",
    "gmm = mixture.GaussianMixture(100, covariance_type=\"full\", random_state=0)\n",
    "gmm.fit(data)\n",
    "print(gmm.converged_)"
   ],
   "metadata": {
    "id": "UZw3d5bajavw"
   },
   "execution_count": null,
   "outputs": []
  },
  {
   "cell_type": "code",
   "source": [
    "# sampling 100 samples from the generated samples\n",
    "data_new = gmm.sample(100)\n",
    "data_new[0].shape"
   ],
   "metadata": {
    "id": "C9TCs8sijcgs"
   },
   "execution_count": null,
   "outputs": []
  },
  {
   "cell_type": "code",
   "source": [
    "digits_new = pca.inverse_transform(data_new[0])\n",
    "plot_digits(digits_new)\n",
    "savefig(\"generated_samples\")"
   ],
   "metadata": {
    "id": "K24Al_Ttjixd"
   },
   "execution_count": null,
   "outputs": []
  }
 ]
}