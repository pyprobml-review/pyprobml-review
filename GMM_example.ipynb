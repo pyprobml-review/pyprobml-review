{
  "cells": [
    {
      "cell_type": "code",
      "execution_count": 1,
      "metadata": {
        "id": "cbAzAQWtMbqt"
      },
      "outputs": [],
      "source": [
        "import modAL"
      ]
    },
    {
      "cell_type": "code",
      "execution_count": 2,
      "metadata": {
        "id": "yHxPecmcHkGJ"
      },
      "outputs": [],
      "source": [
        "import matplotlib.pyplot as plt\n",
        "import tensorflow as tf\n",
        "import numpy as np \n",
        "import seaborn as sns; sns.set()\n",
        "from sklearn import mixture\n",
        "from keras.datasets import mnist\n",
        "from sklearn.model_selection import train_test_split\n",
        "np.random.seed(0)"
      ]
    },
    {
      "cell_type": "code",
      "execution_count": 3,
      "metadata": {
        "colab": {
          "base_uri": "https://localhost:8080/"
        },
        "id": "V4M24fMeZLsJ",
        "outputId": "a3817547-bee4-4b8a-bb82-d153f571dda2"
      },
      "outputs": [],
      "source": [
        "# (x_train, y_train), (x_test, y_test) = mnist.load_data()"
      ]
    },
    {
      "cell_type": "code",
      "execution_count": 4,
      "metadata": {},
      "outputs": [],
      "source": [
        "# X_train,X_test,Y_train,Y_test = train_test_split(x_train,y_train,test_size=0.9,stratify=y_train)\n",
        "# print(X_train.shape)"
      ]
    },
    {
      "cell_type": "code",
      "execution_count": 5,
      "metadata": {},
      "outputs": [],
      "source": [
        "# Y_test.shape"
      ]
    },
    {
      "cell_type": "code",
      "execution_count": 6,
      "metadata": {},
      "outputs": [
        {
          "data": {
            "text/plain": [
              "(1797, 64)"
            ]
          },
          "execution_count": 6,
          "metadata": {},
          "output_type": "execute_result"
        }
      ],
      "source": [
        "from sklearn.datasets import load_digits\n",
        "digits = load_digits()\n",
        "digits.data.shape"
      ]
    },
    {
      "cell_type": "code",
      "execution_count": 7,
      "metadata": {
        "colab": {
          "base_uri": "https://localhost:8080/",
          "height": 466
        },
        "id": "ZaeJEpEKLkz2",
        "outputId": "5945c2c3-2808-4578-fa79-951da30da079"
      },
      "outputs": [
        {
          "data": {
            "image/png": "[encoded data removed]",
            "text/plain": [
              "<Figure size 576x576 with 100 Axes>"
            ]
          },
          "metadata": {},
          "output_type": "display_data"
        }
      ],
      "source": [
        "def plot_digits(data):\n",
        "    fig, ax = plt.subplots(10, 10, figsize=(8, 8),\n",
        "                           subplot_kw=dict(xticks=[], yticks=[]))\n",
        "    fig.subplots_adjust(hspace=0.05, wspace=0.05)\n",
        "    for i, axi in enumerate(ax.flat):\n",
        "        im = axi.imshow(data[i].reshape(8,8), cmap='binary')\n",
        "        im.set_clim(0, 16)\n",
        "plot_digits(digits.data)"
      ]
    },
    {
      "cell_type": "code",
      "execution_count": 8,
      "metadata": {
        "colab": {
          "base_uri": "https://localhost:8080/"
        },
        "id": "rOPi2dsfGplm",
        "outputId": "d3bd1c99-4dab-4a88-8f77-8af7ed3ade79"
      },
      "outputs": [
        {
          "data": {
            "text/plain": [
              "(1797, 41)"
            ]
          },
          "execution_count": 8,
          "metadata": {},
          "output_type": "execute_result"
        }
      ],
      "source": [
        "from sklearn.decomposition import PCA\n",
        "pca = PCA(0.99, whiten=True)\n",
        "data = pca.fit_transform(digits.data)\n",
        "data.shape"
      ]
    },
    {
      "cell_type": "code",
      "execution_count": 9,
      "metadata": {
        "id": "BLlxUOjlGruM"
      },
      "outputs": [
        {
          "data": {
            "image/png": "[encoded data removed]",
            "text/plain": [
              "<Figure size 432x288 with 1 Axes>"
            ]
          },
          "metadata": {},
          "output_type": "display_data"
        }
      ],
      "source": [
        "n_components = np.arange(50, 210, 10)\n",
        "models = [mixture.GaussianMixture(n, covariance_type='full', random_state=42)\n",
        "          for n in n_components]\n",
        "aics = [model.fit(data).aic(data) for model in models]\n",
        "plt.plot(n_components, aics);"
      ]
    },
    {
      "cell_type": "code",
      "execution_count": 10,
      "metadata": {
        "id": "BmeEJmbZGtzg"
      },
      "outputs": [
        {
          "name": "stdout",
          "output_type": "stream",
          "text": [
            "True\n"
          ]
        }
      ],
      "source": [
        "gmm = mixture.GaussianMixture(140, covariance_type='full', random_state=0)\n",
        "gmm.fit(data)\n",
        "print(gmm.converged_)"
      ]
    },
    {
      "cell_type": "code",
      "execution_count": 11,
      "metadata": {
        "id": "2N9n8CrHGuV8"
      },
      "outputs": [
        {
          "data": {
            "text/plain": [
              "(100, 41)"
            ]
          },
          "execution_count": 11,
          "metadata": {},
          "output_type": "execute_result"
        }
      ],
      "source": [
        "data_new = gmm.sample(100)\n",
        "data_new[0].shape"
      ]
    },
    {
      "cell_type": "code",
      "execution_count": 12,
      "metadata": {
        "colab": {
          "base_uri": "https://localhost:8080/",
          "height": 466
        },
        "id": "J_AysMkJGv7L",
        "outputId": "64411402-2b31-4c7b-88cc-fea4b90b8555"
      },
      "outputs": [
        {
          "data": {
            "image/png": "[encoded data removed]",
            "text/plain": [
              "<Figure size 576x576 with 100 Axes>"
            ]
          },
          "metadata": {},
          "output_type": "display_data"
        }
      ],
      "source": [
        "digits_new = pca.inverse_transform(data_new[0])\n",
        "plot_digits(digits_new)"
      ]
    },
    {
      "cell_type": "code",
      "execution_count": 13,
      "metadata": {
        "colab": {
          "base_uri": "https://localhost:8080/"
        },
        "id": "kNYsJ2wDO-FE",
        "outputId": "a20aa728-2e72-4ed2-ac56-1b7a7c186a2b"
      },
      "outputs": [
        {
          "data": {
            "text/plain": [
              "(100, 64)"
            ]
          },
          "execution_count": 13,
          "metadata": {},
          "output_type": "execute_result"
        }
      ],
      "source": [
        "digits_new.shape"
      ]
    },
    {
      "cell_type": "code",
      "execution_count": 14,
      "metadata": {
        "id": "01MngxvsGx2v"
      },
      "outputs": [],
      "source": [
        "X_trainn, X_testt,y_trainn, y_testt = train_test_split(digits.data,digits.target,test_size=0.99, stratify=digits.target)"
      ]
    },
    {
      "cell_type": "code",
      "execution_count": 15,
      "metadata": {
        "colab": {
          "base_uri": "https://localhost:8080/"
        },
        "id": "AD7TgLogHOla",
        "outputId": "f5e3e764-b469-44f5-d1c5-fcabd54d87a3"
      },
      "outputs": [
        {
          "name": "stdout",
          "output_type": "stream",
          "text": [
            "(17, 64) (1780, 64)\n"
          ]
        }
      ],
      "source": [
        "print(X_trainn.shape,X_testt.shape)"
      ]
    },
    {
      "cell_type": "code",
      "execution_count": 16,
      "metadata": {
        "id": "z6s0-JKnNPg-"
      },
      "outputs": [],
      "source": [
        "from sklearn.ensemble import RandomForestClassifier \n",
        "from modAL.models import ActiveLearner, Committee\n",
        "from modAL.uncertainty import uncertainty_sampling"
      ]
    },
    {
      "cell_type": "code",
      "execution_count": 17,
      "metadata": {
        "colab": {
          "base_uri": "https://localhost:8080/"
        },
        "id": "4TZ1dK4TIPGh",
        "outputId": "fbcfdc47-13d8-4b68-cf65-386d5d060903"
      },
      "outputs": [
        {
          "name": "stdout",
          "output_type": "stream",
          "text": [
            "0.55\n"
          ]
        }
      ],
      "source": [
        "#Defining a learner with Uncertainty Sampling Strategy \n",
        "learner= ActiveLearner(estimator=RandomForestClassifier(random_state=0),X_training=X_trainn, y_training=y_trainn, query_strategy=uncertainty_sampling)  \n",
        "\n",
        "#Calculating the initial accuracy with no queries from the pool\n",
        "initial_score_0 = learner.score(X_testt,y_testt)\n",
        "print(initial_score_0)"
      ]
    },
    {
      "cell_type": "code",
      "execution_count": 18,
      "metadata": {
        "id": "fhGmu34vYLSM"
      },
      "outputs": [],
      "source": [
        "def plot_single(data):\n",
        "    fig, ax = plt.subplots(1, 1, figsize=(1, 1),\n",
        "                           subplot_kw=dict(xticks=[], yticks=[]))\n",
        "    fig.subplots_adjust(hspace=0.05, wspace=0.05)\n",
        "    im = ax.imshow(data.reshape(8,8),cmap='binary')\n",
        "    im.set_clim(0, 16)\n"
      ]
    },
    {
      "cell_type": "code",
      "execution_count": 19,
      "metadata": {
        "colab": {
          "base_uri": "https://localhost:8080/",
          "height": 697
        },
        "id": "K6p-ndUeNMVa",
        "outputId": "dea485a7-8299-4736-97d7-51f6d6618483"
      },
      "outputs": [
        {
          "data": {
            "image/png": "[encoded data removed]",
            "text/plain": [
              "<Figure size 72x72 with 1 Axes>"
            ]
          },
          "metadata": {},
          "output_type": "display_data"
        },
        {
          "data": {
            "image/png": "[encoded data removed]",
            "text/plain": [
              "<Figure size 72x72 with 1 Axes>"
            ]
          },
          "metadata": {},
          "output_type": "display_data"
        },
        {
          "data": {
            "image/png": "[encoded data removed]",
            "text/plain": [
              "<Figure size 72x72 with 1 Axes>"
            ]
          },
          "metadata": {},
          "output_type": "display_data"
        },
        {
          "data": {
            "image/png": "[encoded data removed]",
            "text/plain": [
              "<Figure size 72x72 with 1 Axes>"
            ]
          },
          "metadata": {},
          "output_type": "display_data"
        },
        {
          "data": {
            "image/png": "[encoded data removed]",
            "text/plain": [
              "<Figure size 72x72 with 1 Axes>"
            ]
          },
          "metadata": {},
          "output_type": "display_data"
        },
        {
          "data": {
            "image/png": "[encoded data removed]",
            "text/plain": [
              "<Figure size 72x72 with 1 Axes>"
            ]
          },
          "metadata": {},
          "output_type": "display_data"
        },
        {
          "data": {
            "image/png": "[encoded data removed]",
            "text/plain": [
              "<Figure size 72x72 with 1 Axes>"
            ]
          },
          "metadata": {},
          "output_type": "display_data"
        },
        {
          "data": {
            "image/png": "[encoded data removed]",
            "text/plain": [
              "<Figure size 72x72 with 1 Axes>"
            ]
          },
          "metadata": {},
          "output_type": "display_data"
        },
        {
          "data": {
            "image/png": "[encoded data removed]",
            "text/plain": [
              "<Figure size 72x72 with 1 Axes>"
            ]
          },
          "metadata": {},
          "output_type": "display_data"
        },
        {
          "data": {
            "image/png": "[encoded data removed]",
            "text/plain": [
              "<Figure size 72x72 with 1 Axes>"
            ]
          },
          "metadata": {},
          "output_type": "display_data"
        }
      ],
      "source": [
        "uncertainty_scores=[initial_score_0]\n",
        "unc_idx=[]\n",
        "#Creating a copy of Pool set\n",
        "X_pool_entropy = digits_new \n",
        "# Y_pool_entropy= Y_pool \n",
        "#Querying 30 samples based on uncertainty strategy \n",
        "for idx in range(10):\n",
        "  query_id, query_instance = learner.query(X_pool_entropy) \n",
        "  unc_idx.append(query_id)\n",
        "  plot_single(X_pool_entropy[query_id])\n",
        "  #learner.teach(X_pool_entropy[query_id], Y_pool_entropy[query_id]) \n",
        "  X_pool_entropy = np.delete(X_pool_entropy, query_id, axis=0) \n",
        "  #Y_pool_entropy = np.delete(Y_pool_entropy, query_id)\n",
        "  #uncertainty_scores.append(learner.score(X_test,Y_test))"
      ]
    },
    {
      "cell_type": "code",
      "execution_count": null,
      "metadata": {},
      "outputs": [],
      "source": []
    }
  ],
  "metadata": {
    "colab": {
      "name": "GMM_example.ipynb",
      "provenance": []
    },
    "kernelspec": {
      "display_name": "Python 3.8.8 ('base': conda)",
      "language": "python",
      "name": "python3"
    },
    "language_info": {
      "codemirror_mode": {
        "name": "ipython",
        "version": 3
      },
      "file_extension": ".py",
      "mimetype": "text/x-python",
      "name": "python",
      "nbconvert_exporter": "python",
      "pygments_lexer": "ipython3",
      "version": "3.8.8"
    },
    "vscode": {
      "interpreter": {
        "hash": "37d3d047344944a4cf50dcd65a9e63cceeab598470a58fc18bde221a4dd96041"
      }
    }
  },
  "nbformat": 4,
  "nbformat_minor": 0
}
